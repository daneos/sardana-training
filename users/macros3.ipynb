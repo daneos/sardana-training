{
 "cells": [
  {
   "cell_type": "markdown",
   "metadata": {
    "slideshow": {
     "slide_type": "slide"
    }
   },
   "source": [
    "# HOW TO WRITE MACROS & MACRO USE CASES\n",
    "<br>\n",
    "<br>\n",
    "<img alt=\"Creative Commons License\" style=\"border-width:0\" src=\"https://i.creativecommons.org/l/by/4.0/88x31.png\" />\n",
    "Sardana-Training by ALBA Synchrotron is licensed under the Creative Commons Attribution 4.0 International License.  \n",
    "To view a copy of this license, visit http://creativecommons.org/licenses/by/4.0/."
   ]
  },
  {
   "cell_type": "markdown",
   "metadata": {
    "slideshow": {
     "slide_type": "slide"
    }
   },
   "source": [
    "#  HOW TO WRITE MACROS - PRACTICAL"
   ]
  },
  {
   "cell_type": "markdown",
   "metadata": {
    "slideshow": {
     "slide_type": "slide"
    }
   },
   "source": [
    "# Macro function vs. macro class\n",
    "\n",
    "## Function\n",
    "* For programmers with background on a functional language (e.g. Fortran, Matlab, SPEC)\n",
    "* Sequencial procedures to run an experiment\n",
    "\n",
    "## Class\n",
    "* For proammers with background on object-oriented languages (e.g. Java, C++, C#)\n",
    "* Overriding an existing macros (e.g. inherit from `mv` macro and extend its funcionality)\n",
    "* Some advanced features require use of classes e.g. define hook places or mandatory environment variables"
   ]
  },
  {
   "cell_type": "markdown",
   "metadata": {
    "slideshow": {
     "slide_type": "subslide"
    }
   },
   "source": [
    "# Macro plugins discovery\n",
    "* Sardana built-in macros are importable from `sardana.macroserver.macros`\n",
    "* The plugin discovery system is based on directory scanning and python module inspection\n",
    "* Custom macros should be installed in one of the `MacroPath` directories:\n",
    " * Create /macros directory: `mkdir /macros`\n",
    " * In spock: `_MACRO_SERVER.put_property({\"MacroPath\":[\"/macros\", \"/usr/local/lib/python2.7/dist-packages/sardana/macroserver/macros/examples\"]})`\n",
    " * Restart the Sardana server\n",
    "* The path order is important! Macros in the higher position paths will take precedence over the lower position paths."
   ]
  },
  {
   "cell_type": "markdown",
   "metadata": {
    "slideshow": {
     "slide_type": "slide"
    }
   },
   "source": [
    "# Hello world"
   ]
  },
  {
   "cell_type": "code",
   "execution_count": null,
   "metadata": {
    "collapsed": false,
    "slideshow": {
     "slide_type": "subslide"
    }
   },
   "outputs": [],
   "source": [
    "from sardana.macroserver.macro import macro\n",
    "\n",
    "@macro()\n",
    "def hello_world(self):\n",
    "    \"\"\"This is an hello world macro\"\"\"\n",
    "    self.print(\"Hello, World!\")"
   ]
  },
  {
   "cell_type": "markdown",
   "metadata": {
    "slideshow": {
     "slide_type": "slide"
    }
   },
   "source": [
    "# Using external python libraries in macros\n",
    "\n",
    "* external libraries must be available for the python interpreter running the MacroServer server\n",
    "* this can be configured using `PythonPath` property of MacroServer or `PYTHONPATH` OS environment variable\n",
    "* external libraries can be reloaded at the MacroServer runtime with `rellib` macro"
   ]
  },
  {
   "cell_type": "markdown",
   "metadata": {
    "slideshow": {
     "slide_type": "slide"
    }
   },
   "source": [
    "# Macro development tools\n",
    "\n",
    "* `edmac <macro_name> [<module_name>]`\n",
    "* `relmac`, `relmaclib`, `addmaclib`, `rellib`\n",
    "* `www`, `post_mortem`\n",
    "* `debug on|off`"
   ]
  },
  {
   "cell_type": "markdown",
   "metadata": {
    "slideshow": {
     "slide_type": "slide"
    }
   },
   "source": [
    "## Acquire the active measurement group while oscilating a motor"
   ]
  },
  {
   "cell_type": "markdown",
   "metadata": {
    "slideshow": {
     "slide_type": "subslide"
    }
   },
   "source": [
    "### Acquire the active measurement group while oscilating a motor\n",
    "* Read the documentation on [how to write macros](http://www.sardana-controls.org/en/latest/devel/howto_macros/index.html) before starting with this example\n",
    "* Open the template: `kwrite sardana-training/macros/templates/experiment.py`\n",
    "* Implement the macro according to the comments\n",
    "* Deploy the macro in the `/macros` directory: `ln -s /sardana-training/macros/templates/experiment.py /macros`"
   ]
  },
  {
   "cell_type": "markdown",
   "metadata": {
    "slideshow": {
     "slide_type": "slide"
    }
   },
   "source": [
    "## Perform a region scan"
   ]
  },
  {
   "cell_type": "markdown",
   "metadata": {
    "slideshow": {
     "slide_type": "subslide"
    }
   },
   "source": [
    "### Perform a region scan\n",
    "* Configure the experiment using the expconf\n",
    " * `configure the showscan online`\n",
    "* `prdef regscan`\n",
    "* `regscan mot01 0.1 0 10 10 20 2`"
   ]
  },
  {
   "cell_type": "markdown",
   "metadata": {
    "slideshow": {
     "slide_type": "slide"
    }
   },
   "source": [
    "#  MACRO FEATURES - EXAMPLES & REAL USE CASES"
   ]
  },
  {
   "cell_type": "markdown",
   "metadata": {
    "collapsed": true,
    "slideshow": {
     "slide_type": "subslide"
    }
   },
   "source": [
    "## MACRO FEATURES - EXAMPLES AND REAL USE CASES\n",
    "\n",
    "### * Parameter Repetitions: BL09-Mistral ManyTomos collect macro\n",
    "\n",
    "### * Custom Recorders: Dumb Recorder\n",
    "\n",
    "### * Hooks: BL24-CIRCE CarbonScan macro\n",
    "\n",
    "### * Access To The Scan Data: BL04-MSPD mythen_take macro"
   ]
  },
  {
   "cell_type": "markdown",
   "metadata": {
    "slideshow": {
     "slide_type": "slide"
    }
   },
   "source": [
    "# PARAMETER REPETITIONS\n",
    "\n",
    "## ManyTomos: Collect Macro at BL09-MISTRAL Beamline"
   ]
  },
  {
   "cell_type": "markdown",
   "metadata": {
    "slideshow": {
     "slide_type": "subslide"
    }
   },
   "source": [
    "## PARAMETER REPETITIONS\n",
    "### Collect Macro ManyTomos at BL09-Mistral Beamline\n",
    "\n",
    "\n",
    "* **BL09-Mistral**  is dedicated to **Tomography and Spectroscopy Imaging**\n",
    "\n",
    "\n",
    "* **X-Ray Microscope** accepting scripts for performing the **data collection**\n",
    "\n",
    "\n",
    "* Long scripts are needed for collecting the tomography image projections:  \n",
    "Moving the **Sample Position**, the **ZonePlate Microscope Lens**, the **angles**,  \n",
    "the **exposure times**, the **Energies**...\n",
    "\n",
    "\n",
    "* Requirement: **macro** to create **X-Ray Microscope txt Scripts**\n",
    "\n",
    "\n",
    "![TXM Microscope Scheme](res/TXM.jpg)\n"
   ]
  },
  {
   "cell_type": "markdown",
   "metadata": {
    "slideshow": {
     "slide_type": "subslide"
    }
   },
   "source": [
    "## PARAMETER REPETITIONS: \n",
    "### Collect Macro ManyTomos at BL09-Mistral\n",
    "\n",
    "\n",
    "### MacroExecutor View of ManyTomos macro with a set of Parameters \n",
    "\n",
    "* ManyTomos generates a txt script, that is used by the BL09 TXM-Microscope to execute the data collection\n",
    "* Example: \n",
    " * Take Tomographies for two different energies\n",
    " \n",
    " ![Many Tomos Collect Macro](res/manytomos.jpg)\n",
    "  "
   ]
  },
  {
   "cell_type": "markdown",
   "metadata": {
    "slideshow": {
     "slide_type": "slide"
    }
   },
   "source": [
    "# CUSTOM RECORDERS \n",
    "\n",
    "## Dumb Recorder: A Sardana Custom Recorder Example"
   ]
  },
  {
   "cell_type": "markdown",
   "metadata": {
    "slideshow": {
     "slide_type": "subslide"
    }
   },
   "source": [
    "# CUSTOM RECORDERS: Dumb Recorder\n",
    "\n",
    "\n",
    "* Sardana provides an **example of Custom Recorder**: the **DumbRecorder**\n",
    "\n",
    "* DumbRecorder: Stores in a file the acquisitions done during a scan\n",
    "\n",
    "* How to set up the Recorder:\n",
    "    * From spock: Add the recorder path to the macroexecutor properties:  \n",
    "    ```_MACRO_SERVER.put_property({\"RecorderPath\":[\"/usr/local/lib/python2.7/dist-packages/sardana-2.3.3a0-py2.7.egg/sardana/macroserver/recorders/examples\"]})```\n",
    "    * Restart the Sardana Server\n",
    "    * Define the **Recorder**, the **Scan Directory** and the **Scan File**:\n",
    "    ```\n",
    "    senv ScanDir /tmp/\n",
    "    senv ScanFile foo.txt\n",
    "    senv ScanRecorder DumbRecorder\n",
    "    ```\n",
    "* Execute a scan from spock: \n",
    "    ```\n",
    "    dscan mot01 0 2 1 0.1\n",
    "    ```\n",
    "* Results: Scan Output in ```/tmp/foo.txt``` file\n",
    "  "
   ]
  },
  {
   "cell_type": "markdown",
   "metadata": {
    "slideshow": {
     "slide_type": "slide"
    }
   },
   "source": [
    "# HOOKS\n",
    "\n",
    "## CarbonScan: a Scan Macro using the Hooks at BL24-CIRCE"
   ]
  },
  {
   "cell_type": "markdown",
   "metadata": {
    "slideshow": {
     "slide_type": "subslide"
    }
   },
   "source": [
    "## HOOKS\n",
    "### CarbonScan: a Scan Macro using the Hooks at BL24-CIRCE Beamline\n",
    "\n",
    "\n",
    "* **Experiment:**\n",
    "    * Experiment at BL24-CIRCE ALBA Beamline\n",
    "    * PEEM Experiment: Photo Emission Electron Microscopy\n",
    "    * Detector: PCO 2D Camera\n",
    "    * Sample: **Graphene Carbon Monolayer**\n",
    "    * Macro **CarbonScan**: Scan acquiring a 2D image at each Energy\n",
    "\n",
    "* **Code:**\n",
    "\n",
    "    * https://sourceforge.net/p/sardana/macros.git/ci/master/tree/ALBA_BL24_CIRCE/carbon_scan.py\n",
    "    * https://sourceforge.net/p/sardana/macros.git/ci/master/tree/ALBA_BL24_CIRCE/peem_macros.py\n",
    "  "
   ]
  },
  {
   "cell_type": "markdown",
   "metadata": {
    "slideshow": {
     "slide_type": "subslide"
    }
   },
   "source": [
    "## HOOKS\n",
    "### CarbonScan: a Scan Macro using the Hooks at BL24-CIRCE Beamline\n",
    "\n",
    "* **Requirements and Constraints**\n",
    "    * Macro **CarbonScan**: Scan acquiring a 2D image at each Energy\n",
    "    * Carbon beamline optics absorbs a lot of photons\n",
    "        * Low flux arriving to the Carbon monoLayer Sample\n",
    "        * Images normalized at the Carbon Edge (285eV) flux\n",
    "    * PEEM 2D detector not still integrated in the Sardana\n",
    "\n",
    "* **Solution:** Usage of a **Hook**\n",
    "    * **CarbonScan** macro: Energy step scan for Graphene acquisition\n",
    "    * ElectroMeter gets the flux at each energy for normalizing images\n",
    "    * The CarbonScan macro calls the **Hook peemGetSingleImage**: \n",
    "        * Acquires PEEM images through a TangoDS at each point\n",
    "        * Usage of LIMA Library in TangoDS to acquire the images\n",
    "        * Sardana Scan hookplace **post-move**"
   ]
  },
  {
   "cell_type": "markdown",
   "metadata": {
    "slideshow": {
     "slide_type": "subslide"
    }
   },
   "source": [
    "## HOOKS\n",
    "### CarbonScan: a Scan Macro using the Hooks at BL24-CIRCE Beamline\n",
    "\n",
    "* **Resutls sample: 2D image at a given energy**\n",
    "    * Low-energy electron microscopy (LEEM) image\n",
    "    * 10x25um2 of Ruthenium (Ru) surface with 2 graphene flakes \n",
    "    * The graphene flakes thickness is of one single atomic C layer \n",
    "\n",
    "  ![Custom Recording](res/monolayer_carbon.jpg)"
   ]
  },
  {
   "cell_type": "markdown",
   "metadata": {
    "slideshow": {
     "slide_type": "slide"
    }
   },
   "source": [
    "# DATA PROPERTY: Access To The Macro Data\n",
    "\n",
    "## mythen_take: Mythen Data Collection Macro at BL04-MSPD"
   ]
  },
  {
   "cell_type": "markdown",
   "metadata": {
    "slideshow": {
     "slide_type": "subslide"
    }
   },
   "source": [
    "## DATA PROPERTY: Access To The Macro Data\n",
    "### mythen_take: Mythen Data Collection macro at BL04-MSPD Beamline\n",
    "\n",
    "\n",
    "* **Experiment:**\n",
    "    * BL04-MSPD: Material Science and Powder Diffraction Beamline\n",
    "    * XRD X-Ray Diffraction Experiment \n",
    "    * Batteries are studied during cycles of charge and discharge\n",
    "    * Mythen 1D detector for collecting the spectrums\n",
    "    * Potentiostat is setting and reading the Voltage applied to the battery\n",
    "    * Potentiostat connected to Adlink data acquisition card\n",
    "    * Results: \n",
    "        * Spectrum + Battery Voltage stored in the same file\n",
    "        * Variation of the chemical species in the battery in function of the measure of charge/discharge"
   ]
  },
  {
   "cell_type": "markdown",
   "metadata": {
    "slideshow": {
     "slide_type": "subslide"
    }
   },
   "source": [
    "## DATA PROPERTY: Access To The Macro Data\n",
    "### mythen_take: Mythen Data Collection macro at BL04-MSPD Beamline \n",
    "\n",
    "* Experiment Requirements:\n",
    "    * Process the **voltage** read thanks to the Adlink DAQ\n",
    "    * Store each voltage with the corresponding spectrum\n",
    "\n",
    "\n",
    "* Solution: \n",
    "    * **mythen_take macro**: https://sourceforge.net/p/sardana/macros.git/ci/master/tree/ALBA_BL04_MSPD/mythen.py#l2210\n",
    "    * mythen_take macro allows to: \n",
    "        * call a **custom ct** macro to measure the **Potentiostat Voltage**\n",
    "        * Get the ct voltage data using the python property* **.data** *from the macro object\n",
    "        * Perform a **Mythen spectrum acquisition**\n",
    "        * Store the **Voltage** and the **Spectrum** in the same file  "
   ]
  }
 ],
 "metadata": {
  "celltoolbar": "Slideshow",
  "kernelspec": {
   "display_name": "Python 2",
   "language": "python",
   "name": "python2"
  },
  "language_info": {
   "codemirror_mode": {
    "name": "ipython",
    "version": 2
   },
   "file_extension": ".py",
   "mimetype": "text/x-python",
   "name": "python",
   "nbconvert_exporter": "python",
   "pygments_lexer": "ipython2",
   "version": "2.7.13"
  }
 },
 "nbformat": 4,
 "nbformat_minor": 2
}
