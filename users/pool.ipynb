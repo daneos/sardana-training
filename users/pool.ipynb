{
 "cells": [
  {
   "cell_type": "markdown",
   "metadata": {
    "slideshow": {
     "slide_type": "slide"
    }
   },
   "source": [
    "# Pool - how it manages elements?\n",
    "<br>\n",
    "<br>\n",
    "<img alt=\"Creative Commons License\" style=\"border-width:0\" src=\"https://i.creativecommons.org/l/by/4.0/88x31.png\" />\n",
    "Sardana-Training by ALBA Synchrotron is licensed under the Creative Commons Attribution 4.0 International License.  \n",
    "To view a copy of this license, visit http://creativecommons.org/licenses/by/4.0/."
   ]
  },
  {
   "cell_type": "markdown",
   "metadata": {
    "slideshow": {
     "slide_type": "slide"
    }
   },
   "source": [
    "## Contents\n",
    "\n",
    "Overview of each Pool element type:\n",
    " * Element overview\n",
    " * Element API\n",
    " * Live demos (only some of them)"
   ]
  },
  {
   "cell_type": "markdown",
   "metadata": {
    "slideshow": {
     "slide_type": "slide"
    }
   },
   "source": [
    "## Controller\n",
    "\n",
    "* [Controller overview](http://www.sardana-controls.org/devel/overview/overview_controller.html#controller-overview)\n",
    "* [Writing controllers](http://www.sardana-controls.org/devel/howto_controllers/index.html#sardana-controller-howto)"
   ]
  },
  {
   "cell_type": "markdown",
   "metadata": {
    "slideshow": {
     "slide_type": "subslide"
    }
   },
   "source": [
    "## Controller\n",
    "\n",
    "* Each hardware is represented by the software object called controller\n",
    "* Is responsible for mapping the communication between a set of hardware objects e.g. motors with the underlying hardware e.g. motor controller crate.\n",
    "* It is the elements container and refers to the elements by unique axis numbers\n",
    "* Has reference to the controller plugin instance\n",
    "* May have attributes, parameters and properties\n",
    "* IMPORTANT: Controller object is not the same as controller plug-in"
   ]
  },
  {
   "cell_type": "markdown",
   "metadata": {
    "slideshow": {
     "slide_type": "slide"
    }
   },
   "source": [
    "## Motor\n",
    "\n",
    "* [Motor overview](http://www.sardana-controls.org/devel/overview/overview_motor.html#motor-overview)\n",
    "* [Motor API reference](http://www.sardana-controls.org/devel/api/api_motor.html#sardana-motor-api)"
   ]
  },
  {
   "cell_type": "markdown",
   "metadata": {
    "slideshow": {
     "slide_type": "subslide"
    }
   },
   "source": [
    "### Motor overview\n",
    "\n",
    "* Its interface was designed with physical motors in mind\n",
    "* ... but Motor can be anything that can be changed e.g. temperature controller or power supply\n",
    "* Interface is dynamic - only Position, State and Status attribute are mandatory"
   ]
  },
  {
   "cell_type": "markdown",
   "metadata": {
    "slideshow": {
     "slide_type": "subslide"
    }
   },
   "source": [
    "### Motor API reference\n",
    "\n",
    "* *position* and its relation with *dial position*, *offset* and *sign*\n",
    "* *dial position* and its relation with *steps per unit*\n",
    "* *state* and *limit switches*\n",
    "* *velocity*, *acceleration*, *deceleration* and *base rate*\n",
    "* *backlash* and *instability time*\n",
    "* operations: *start move*, *stop* and *abort*"
   ]
  },
  {
   "cell_type": "markdown",
   "metadata": {
    "slideshow": {
     "slide_type": "subslide"
    }
   },
   "source": [
    "### Motor live demos\n",
    "\n",
    "1. Start taurusform, taurustrend:\n",
    " * `taurus form mot01`\n",
    " * `taurus tpg trend mot01/position`\n",
    " * taurus widgets are listening to events\n",
    "2. Move absolute and relative to demonstrate position and state events (position quality becomes CHANGING - blue background)\n",
    "3. Move absolute and relative using macros: `umv mot01 100; umvr mot01 10; umvr mot01 -10` \n",
    "4. Abort move in taurusform: using the red button and in spock: issue Ctrl+C while moving"
   ]
  },
  {
   "cell_type": "markdown",
   "metadata": {
    "slideshow": {
     "slide_type": "subslide"
    }
   },
   "source": [
    "### Motor live demos - part 2\n",
    "\n",
    "5. Set limits using the the macro: `set_lim mot01 -120 120`\n",
    "6. Show expert mode and move while pressed and move to the limit.\n",
    "7. Unset limits `set_lim mot01 -inf inf`\n",
    "8. Show *Tango Attributes* form and modify *velocity* and *acceleration*\n",
    "9. Modify *velocity* and *acceleration* from spock."
   ]
  },
  {
   "cell_type": "markdown",
   "metadata": {
    "collapsed": true,
    "slideshow": {
     "slide_type": "slide"
    }
   },
   "source": [
    "## Pseudo motor\n",
    "\n",
    "* [Pseudo motor overview](http://www.sardana-controls.org/devel/overview/overview_pseudomotor.html)\n",
    "* [Pseudo motor API reference](http://www.sardana-controls.org/devel/api/api_pseudomotor.html#sardana-pseudomotor-api)"
   ]
  },
  {
   "cell_type": "markdown",
   "metadata": {
    "slideshow": {
     "slide_type": "subslide"
    }
   },
   "source": [
    "### Pseudo motor overview\n",
    "* Abstraction layer to provide a motor-like interface on top of motor(s) + calculation\n",
    "* Examples are Slit's gap or offset pseudo motors\n",
    "* Container of motor(s) so its state is the composition of physical motors' states"
   ]
  },
  {
   "cell_type": "markdown",
   "metadata": {
    "slideshow": {
     "slide_type": "subslide"
    }
   },
   "source": [
    "### Pseudo motor live demos\n",
    "\n",
    "1. Add mot02 physical motor and gap01 and offset01 pseudo motors to the taurusform using the *Modify contents*\n",
    "2. Remove mot01/state add add mot02/position, gap01/position and offeset01/position to the taurustrendand using the *Input data selction...* feature.\n",
    "2. Use *Change curve titles...* feature of the taurustrend to show device aliases.\n",
    "3. Move physical motors separatelly and demonstrate the changing quality of pseudo motors' positions\n",
    "4. Open and close the gap and show how physical motor moves"
   ]
  },
  {
   "cell_type": "markdown",
   "metadata": {
    "collapsed": true,
    "slideshow": {
     "slide_type": "slide"
    }
   },
   "source": [
    "## IO register\n",
    "\n",
    "* [IO register overview](http://www.sardana-controls.org/devel/overview/overview_IOR.html)\n",
    "* [IO register API reference](http://www.sardana-controls.org/devel/api/api_IOR.html)"
   ]
  },
  {
   "cell_type": "markdown",
   "metadata": {
    "slideshow": {
     "slide_type": "subslide"
    }
   },
   "source": [
    "### IO register overview\n",
    "\n",
    "* Generic element to access hardware registers (`int`, `float` or `bool`)\n",
    "* In controray to moveables motion, the IOR write is an instant operation."
   ]
  },
  {
   "cell_type": "markdown",
   "metadata": {
    "slideshow": {
     "slide_type": "slide"
    }
   },
   "source": [
    "## Counter/timer\n",
    "\n",
    "* [Counter/timer overview](http://www.sardana-controls.org/devel/overview/overview_countertimer.html)\n",
    "* [Counter/timer API reference](http://www.sardana-controls.org/devel/api/api_countertimer.html#sardana-countertimer-api)\n",
    "* [Tango counter/timer API reference](http://www.sardana-controls.org/devel/api/sardana/tango/pool/CTExpChannel.html#sardana.tango.pool.CTExpChannel.CTExpChannel)"
   ]
  },
  {
   "cell_type": "markdown",
   "metadata": {
    "slideshow": {
     "slide_type": "subslide"
    }
   },
   "source": [
    "### Counter/timer overview\n",
    "\n",
    "* Represents an experimental channel which acquisition result is a scalar value\n",
    "* Interface was designed with hardware counter/timer devices in mind but counter/timer also fits well to electrometers or ADCs\n",
    "* Acquisition is either synchronized on:\n",
    "  * trigger (software or hardware) and controlled by integration time\n",
    "  * gate (software or hardware)\n",
    "  * start (software or hardware) and controller by integration time and latency time"
   ]
  },
  {
   "cell_type": "markdown",
   "metadata": {
    "slideshow": {
     "slide_type": "subslide"
    }
   },
   "source": [
    "### Counter/timer API reference\n",
    "\n",
    "* *value* attribute - stores the result of the last acquisition - see [SEP#17](https://github.com/reszelaz/sardana/blob/sep17/doc/source/sep/SEP17.md)\n",
    "* *value buffer* attribute - channel for passing results (chunks) of the continuous acquisition\n",
    "* It can be acquired either independently or within a measurement group\n",
    "* operations: *start acquisition*, *stop*, *abort*"
   ]
  },
  {
   "cell_type": "markdown",
   "metadata": {
    "slideshow": {
     "slide_type": "subslide"
    }
   },
   "source": [
    "### Counter/timer live demos\n",
    "\n",
    "1. Start taurusform, taurustrend: `taurus form ct01`& `taurus tpg trend ct01/value ct01/state`&\n",
    "2. Perform a count in spock using the `ct 1 ct01` macro to demonstrate value and state events (value quality becomes CHANGING - blue background)\n",
    "3. Perform an update count in spock using the `uct` macro to demonstrate value events.\n",
    "4. Perform a long count e.g. `ct 10` and abort it."
   ]
  },
  {
   "cell_type": "markdown",
   "metadata": {
    "slideshow": {
     "slide_type": "slide"
    }
   },
   "source": [
    "## 1D and 2D\n",
    "\n",
    "* [1D overview](http://www.sardana-controls.org/devel/overview/overview_1D.html)\n",
    "* [1D API reference](http://www.sardana-controls.org/devel/api/api_1D.html)\n",
    "* [2D overview](http://www.sardana-controls.org/devel/overview/overview_2D.html)\n",
    "* [2D API reference](http://www.sardana-controls.org/devel/api/api_2D.html)"
   ]
  },
  {
   "cell_type": "markdown",
   "metadata": {
    "slideshow": {
     "slide_type": "subslide"
    }
   },
   "source": [
    "### 1D and 2D overview\n",
    "\n",
    "* Represents an experimental channel which acquisition result is:\n",
    " * 1D - a spectrum value\n",
    " * 2D - an image value\n",
    "* Interface was designed with the following equipment in mind:\n",
    " * 1D - MCA, position sensitive detectors\n",
    " * 2D - CCD, photon counting area dectors\n",
    "* Acquisition is either synchronized on:\n",
    "  * trigger (software or hardware) and controlled by integration time\n",
    "  * gate (software or hardware)\n",
    "  * start (software or hardware) and controller by integration time and latency "
   ]
  },
  {
   "cell_type": "markdown",
   "metadata": {
    "slideshow": {
     "slide_type": "subslide"
    }
   },
   "source": [
    "### 1D and 2D API reference\n",
    "\n",
    "* *value* attribute - stores the result of the last acquisition - see [SEP#17](https://github.com/reszelaz/sardana/blob/sep17/doc/source/sep/SEP17.md)\n",
    "* *value buffer* attribute - channel for passing results (chunks) of the continuous acquisition\n",
    "* *value ref* attribute - reference to the result of the last acquisition\n",
    "* *value ref buffer* attribute - channel for passing references to the results (chunks) of the continuous acquisition\n",
    "* It can be acquired either independently or within a measurement group\n",
    "* operations: *start acquisition*, *stop*, *abort*"
   ]
  },
  {
   "cell_type": "markdown",
   "metadata": {
    "slideshow": {
     "slide_type": "slide"
    }
   },
   "source": [
    "## 0D\n",
    "\n",
    "* [0D overview](http://www.sardana-controls.org/devel/overview/overview_0D.html)\n",
    "* [0D API reference](http://www.sardana-controls.org/devel/api/api_0D.html)"
   ]
  },
  {
   "cell_type": "markdown",
   "metadata": {
    "slideshow": {
     "slide_type": "subslide"
    }
   },
   "source": [
    "### OD overview\n",
    "\n",
    "* It is used to access any kind of device which returns a scalar value and which are not counter/timer\n",
    "* Executes software sampling with the default \"period\" of 10 ms (`AcqLoop_SleepTime`) and performs calculation on the acquired buffer\n",
    "* It must be acquired within a measurement group with at least one timerable e.g. counter/timer element"
   ]
  },
  {
   "cell_type": "markdown",
   "metadata": {
    "slideshow": {
     "slide_type": "subslide"
    }
   },
   "source": [
    "### 0D API reference\n",
    "\n",
    "* *value* - last acquisition calculation result\n",
    "* *value buffer* - channel for passing calculation results (chunks) of the continuous acquisition\n",
    "* *current value* - instant readout from the hardware\n",
    "* *accumulation type* - type of calculation on the buffer\n",
    "* *accumulation buffer* and *time buffer* - raw samples and their timestamps\n",
    "* Currently, its acquisition must be coordinated by the measurement group - see [#185](https://github.com/sardana-org/sardana/issues/185)\n",
    "* operations: *start acquisition*, *stop*, *abort*"
   ]
  },
  {
   "cell_type": "markdown",
   "metadata": {
    "slideshow": {
     "slide_type": "subslide"
    }
   },
   "source": [
    "### 0D live demos\n",
    "\n",
    "1. Intrduce the measurement group and active measurement group concepts.\n",
    "2. Define a new measurement group in spock: `defmeas mntgrp02 ct01 zerod01`\n",
    "3. Select the newly created measurement group as active in spock: `senv ActiveMntGrp mntgrp02`\n",
    "4. Consult the accumulation type: `zerod01.accumulationtype`\n",
    "5. Perform a count in spock: `ct`\n",
    "6. Change the accumulation type to sum: `zerod01.accumulationtype = \"Sum\"`\n",
    "7. Consult the accumulation buffer: `zerod01.accumulationbuffer`\n",
    "8. Consult the time buffer: `zerod01.timebuffer`"
   ]
  },
  {
   "cell_type": "markdown",
   "metadata": {
    "slideshow": {
     "slide_type": "slide"
    }
   },
   "source": [
    "## Pseudo counter - the same concept as pseudo motors\n",
    "\n",
    "* [Pseudo counter overview](http://www.sardana-controls.org/devel/overview/overview_pseudocounter.html)\n",
    "* [Pseudo counter API reference](http://www.sardana-controls.org/devel/api/api_pseudocounter.html#sardana-pseudocounter-api)"
   ]
  },
  {
   "cell_type": "markdown",
   "metadata": {
    "slideshow": {
     "slide_type": "subslide"
    }
   },
   "source": [
    "### Pseudo counter overview\n",
    "\n",
    "* Acts like an abstraction layer for any experimental channel or a set of channels allowing to perform calculations on them\n",
    "* Examples is IoverI0 pseudo counter\n",
    "* Container of channel(s) so its state is the composition of physical channels' states"
   ]
  },
  {
   "cell_type": "markdown",
   "metadata": {
    "slideshow": {
     "slide_type": "subslide"
    }
   },
   "source": [
    "### Pseudo counter API reference\n",
    "\n",
    "* siblings\n",
    "* operations: start move, stop and abort"
   ]
  },
  {
   "cell_type": "markdown",
   "metadata": {
    "slideshow": {
     "slide_type": "subslide"
    }
   },
   "source": [
    "### Pseudo counter live demos\n",
    "\n",
    "1. Create IoverI0 controller instance in spock: `defctrl IoverI0 ioveri0ctrl01 I=ct01 I0=ct02 IoverI0=ioveri001`\n",
    "2. Define a new measurement group in spock: `defmeas mntgrp03 ct01 ct02 ioveri001`\n",
    "3. Perform a count in spock: `ct`"
   ]
  },
  {
   "cell_type": "markdown",
   "metadata": {
    "slideshow": {
     "slide_type": "slide"
    }
   },
   "source": [
    "## Trigger/gate\n",
    "\n",
    "* [Trigger/gate overview](http://www.sardana-controls.org/devel/overview/overview_triggergate.html)\n",
    "* [Trigger/gate API reference](http://www.sardana-controls.org/devel/api/api_triggergate.html#sardana-triggergate-api)"
   ]
  },
  {
   "cell_type": "markdown",
   "metadata": {
    "slideshow": {
     "slide_type": "slide"
    }
   },
   "source": [
    "### Trigger/gate\n",
    "* Represents synchronization devices like for example the digital trigger and/or gate generators\n",
    "* Their main role is to synchronize acquisition of the experimental channels\n",
    "* Synchronization is described in the following [structure](http://www.sardana-controls.org/devel/howto_controllers/howto_triggergatecontroller.html#synchronization-description)\n",
    "* May work in time and position domains"
   ]
  },
  {
   "cell_type": "markdown",
   "metadata": {
    "slideshow": {
     "slide_type": "slide"
    }
   },
   "source": [
    "## Measurement group\n",
    "\n",
    "* [Measurement group overview](http://www.sardana-controls.org/devel/overview/overview_measurementgroup.html)\n",
    "* [Measurement group API reference](http://www.sardana-controls.org/devel/api/api_measurementgroup.html#sardana-measurementgroup-api)"
   ]
  },
  {
   "cell_type": "markdown",
   "metadata": {
    "slideshow": {
     "slide_type": "subslide"
    }
   },
   "source": [
    "### Measurement group overview\n",
    "\n",
    "* Allows the user to access several data acquisition channels at the same time\n",
    "* When creating a measurement group, the user compose it from:\n",
    " * Counter/Timer\n",
    " * 0D\n",
    " * 1D\n",
    " * 2D\n",
    " * Pseudo Counter\n",
    " * external attribute e.g. read directly from Tango or EPICS (not compatible with continuous acquisition)\n",
    "* Indirectly involves trigger/gate elements\n",
    "* Container of element(s) so its state is the composition of its element states"
   ]
  },
  {
   "cell_type": "markdown",
   "metadata": {
    "slideshow": {
     "slide_type": "subslide"
    }
   },
   "source": [
    "### Experiment configuration widget -  demo\n",
    "\n",
    "* In spock: `expconf`\n",
    "* How to add channels\n",
    "* How to create a new measurement group\n",
    "* Data storage: scan file and scan dir"
   ]
  }
 ],
 "metadata": {
  "celltoolbar": "Slideshow",
  "kernelspec": {
   "display_name": "Python 2",
   "language": "python",
   "name": "python2"
  },
  "language_info": {
   "codemirror_mode": {
    "name": "ipython",
    "version": 2
   },
   "file_extension": ".py",
   "mimetype": "text/x-python",
   "name": "python",
   "nbconvert_exporter": "python",
   "pygments_lexer": "ipython2",
   "version": "2.7.13"
  }
 },
 "nbformat": 4,
 "nbformat_minor": 2
}
