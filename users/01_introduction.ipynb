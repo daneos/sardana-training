{
 "cells": [
  {
   "cell_type": "markdown",
   "metadata": {
    "slideshow": {
     "slide_type": "slide"
    }
   },
   "source": [
    "# Introduction\n",
    "<br>\n",
    "<br>\n",
    "<img alt=\"Creative Commons License\" style=\"border-width:0\" src=\"https://i.creativecommons.org/l/by/4.0/88x31.png\" />\n",
    "Sardana-Training by ALBA Synchrotron is licensed under the Creative Commons Attribution 4.0 International License.  \n",
    "To view a copy of this license, visit http://creativecommons.org/licenses/by/4.0/."
   ]
  },
  {
   "cell_type": "markdown",
   "metadata": {
    "slideshow": {
     "slide_type": "slide"
    }
   },
   "source": [
    "# Resources to be used during the workshop\n",
    "\n",
    "## Main pages:\n",
    "Main access point to documentation and projects:\n",
    "\n",
    "* Taurus home page: http://www.taurus-scada.org\n",
    "* Sardana home page: http://www.sardana-controls.org\n",
    "\n",
    "\n",
    "\n"
   ]
  },
  {
   "cell_type": "markdown",
   "metadata": {
    "slideshow": {
     "slide_type": "subslide"
    }
   },
   "source": [
    "## Project pages\n",
    "For downloading the latest code, reporting issues, ask questions and contribute:\n",
    "\n",
    "* Taurus: https://github.com/taurus-org/taurus\n",
    "* Sardana: https://github.com/sardana-org/sardana\n",
    "* Sardana Plugins Catalogue: https://github.com/sardana-org/sardana-plugins"
   ]
  },
  {
   "cell_type": "markdown",
   "metadata": {
    "slideshow": {
     "slide_type": "subslide"
    }
   },
   "source": [
    "## Enhancement proposals\n",
    "The Sardana and Taurus communities follow the example of the Python and Debian projects and use \"Enhancement proposals\" for documenting and coordinating the introduction of *critical* features or workflows that require special discussion. Approved Enhancement Proposals can be found in:\n",
    "* [Taurus Enhancement Proposal (TEP) index](http://www.taurus-scada.org/tep/?)\n",
    "* [Sardana Enhancement Proposal (SEP) index](http://www.sardana-controls.org/sep/?)"
   ]
  },
  {
   "cell_type": "markdown",
   "metadata": {
    "slideshow": {
     "slide_type": "slide"
    }
   },
   "source": [
    "# Getting support\n",
    "\n",
    "The **preferred** way of getting support is via GitHub Issues (for [Taurus](https://github.com/taurus-org/taurus/issues) and [Sardana](https://github.com/sardana-org/sardana/issues)). Use them for asking questions, reporting bugs, suggesting features,... etc\n",
    "\n",
    "There also exist mailing lists ([taurus](https://sourceforge.net/p/tauruslib/mailman/) / [sardana](https://sourceforge.net/p/sardana/mailman/)), but they should be used mostly for announcements and for coordination between developers.\n",
    "\n"
   ]
  },
  {
   "cell_type": "markdown",
   "metadata": {
    "slideshow": {
     "slide_type": "slide"
    }
   },
   "source": [
    "# Releases and latest code\n",
    "\n",
    "## Official releases\n",
    "\n",
    "Taurus and Sardana aim to produce at least **2 official releases per year** (in January and July) in PyPI.\n",
    "Additional installable files (.wheel, .msi, .deb, etc.) may also be released on GitHub.\n",
    "\n",
    "The official releases are also pushed and tagged on the `master` branch of the official repositories.\n",
    "\n",
    "## Latest code\n",
    "\n",
    "The latest code can be found in the `develop` branch of the repositories. \n",
    "\n",
    "For more details and information on how to contribute, see the `CONTRIBUTING.md` files ([taurus](https://github.com/taurus-org/taurus/blob/develop/CONTRIBUTING.md) / [sardana](https://github.com/sardana-org/sardana/blob/develop/CONTRIBUTING.md)) "
   ]
  }
 ],
 "metadata": {
  "celltoolbar": "Slideshow",
  "kernelspec": {
   "display_name": "Python 2",
   "language": "python",
   "name": "python2"
  },
  "language_info": {
   "codemirror_mode": {
    "name": "ipython",
    "version": 2
   },
   "file_extension": ".py",
   "mimetype": "text/x-python",
   "name": "python",
   "nbconvert_exporter": "python",
   "pygments_lexer": "ipython2",
   "version": "2.7.12"
  }
 },
 "nbformat": 4,
 "nbformat_minor": 2
}
