{
 "cells": [
  {
   "cell_type": "markdown",
   "metadata": {
    "slideshow": {
     "slide_type": "slide"
    }
   },
   "source": [
    "\n",
    "# Workshop about controllers\n",
    "<br>\n",
    "<br>\n",
    "<img alt=\"Creative Commons License\" style=\"border-width:0\" src=\"https://i.creativecommons.org/l/by/4.0/88x31.png\" />\n",
    "Sardana-Training by ALBA Synchrotron is licensed under the Creative Commons Attribution 4.0 International License.  \n",
    "To view a copy of this license, visit http://creativecommons.org/licenses/by/4.0/."
   ]
  },
  {
   "cell_type": "markdown",
   "metadata": {
    "slideshow": {
     "slide_type": "slide"
    }
   },
   "source": [
    "## Contents\n",
    "* Writing controller - general\n",
    "* Writing motor controller - Blender blades\n",
    "* Writing pseudo motor controller - Slits\n",
    "* Writing counter/timer controller - Network Trafic Counter"
   ]
  },
  {
   "cell_type": "markdown",
   "metadata": {
    "slideshow": {
     "slide_type": "slide"
    }
   },
   "source": [
    "### Before writing a new controller\n",
    "* Before writing a new controller check in the [third-party repository](https://sourceforge.net/p/sardana/controllers.git/ci/master/tree/) if someone already wrote a similar one e.g.\n",
    " * Motor: IcePAP, Pmac\\*, PIE516, Linkam TST350\\*, Newport NSC200, Oxford Cryostream 700\\*, Smaract MCS, OmsVme58\\*, NewFocus\\*, Kohzu\\*, AttoCube\\*, Galil\\*, Micos\\*, Aerotech\\*, OwisMMS19Tango\\*, Tango attribute, ...\n",
    " * PseudoMotor: Tripod, Tables, Translatations, Energy, ...\n",
    " * IORegister: SIS3610\\*, Pmac\\*, ...\n",
    " * CounterTimer: Adlink2005\\* , NI6602\\*, AlbaEm\\*, DGG2\\*, SIS3820\\*, ROIs, Tango attribute, ...\n",
    " * 1D: AmptekPX5\\*, Mythen\\*, SIS3302, ...\n",
    " * 2D: PCO\\*, Eiger\\*, Lambda\\*, MarCCD\\*, Pilatus\\*, PerkinElmer\\*, Lima\\*, ...\n",
    "* If not, it does not harm to ask on one of the communication channels e.g. mailing list, github issue, etc.\n",
    "\n",
    "\\* Communicate via Tango devices"
   ]
  },
  {
   "cell_type": "markdown",
   "metadata": {
    "slideshow": {
     "slide_type": "slide"
    }
   },
   "source": [
    "### Controller plugins discovery\n",
    "* Sardana built-in controllers are importable from `sardana.pool.poolcontrollers`\n",
    "* The plugin discovery system is based on directory scanning and python module inspection\n",
    "* Custom controllers should be installed in one of the `PoolPath` directories:\n",
    " * Create /controllers directory: `mkdir /controllers`\n",
    " * In spock: `Pool_demo1_1.put_property({\"PoolPath\":[\"/controllers\"]})`\n",
    " * Restart the Sardana server\n",
    "* The path order is important! Controllers in the higher position paths will take precedence over the lower position paths."
   ]
  },
  {
   "cell_type": "markdown",
   "metadata": {
    "slideshow": {
     "slide_type": "slide"
    }
   },
   "source": [
    "### Blender Blades Motor Controller\n",
    "\n",
    "* Open the code: `kwrite sardana-training/controllers/templates/BlenderBladesMotorCtrl.py`"
   ]
  },
  {
   "cell_type": "markdown",
   "metadata": {
    "slideshow": {
     "slide_type": "subslide"
    }
   },
   "source": [
    "### Blender Blades Motor Controller\n",
    "\n",
    "* Dependency: blender (in Debian: `apt-get install blender`)\n",
    "* Start hardware: `blenderplayer sardana-training/blender_slits/slits.blend`\n",
    "* Blender Blades system (NOT PART OF SARDANA): \n",
    " * Communication protocal is explained in: `sardana-training/blender_slits/comm_protocol.txt`\n",
    " * Starts at completelly closed slits\n",
    " * Directions are in the hardware coordinate system\n",
    " * Positions are not callibrated in the local coordinate system - beam axis is the zero"
   ]
  },
  {
   "cell_type": "markdown",
   "metadata": {
    "slideshow": {
     "slide_type": "subslide"
    }
   },
   "source": [
    "### [Writing constructor](http://www.sardana-controls.org/devel/howto_controllers/howto_controller.html#constructor)\n",
    "* Constructor\n",
    " * Called on: controllers creation, pool startup and controller's code reload\n",
    " * Accepts arguments: instance (name of the controller instance) and properties (dictionary with the controller properties)\n",
    " * If an exception is raised when constructing the controller, the controller automatically gets into the Fault state and its status describes the exception that occured\n",
    "* Instantiate `BlenderBlades` in the constructor"
   ]
  },
  {
   "cell_type": "markdown",
   "metadata": {
    "slideshow": {
     "slide_type": "subslide"
    }
   },
   "source": [
    "### Instantiate controller\n",
    "* Deploy controller: `ln -s /sardana-training/controllers/templates/BlenderBladesMotorCtrl.py /controllers`\n",
    "* Load it in the system - in spock: `addctrllib BlenderBladesMotorCtrl`\n",
    "* Create an instance of the controller: `defctrl BlenderBladesMotorController bleblactrl`\n",
    "* Ask for controllers state: `bleblactrl.state()`"
   ]
  },
  {
   "cell_type": "markdown",
   "metadata": {
    "slideshow": {
     "slide_type": "subslide"
    }
   },
   "source": [
    "### [Implement StateOne](http://www.sardana-controls.org/devel/howto_controllers/howto_motorcontroller.html#get-motor-state)\n",
    "* Get axis state (State sequence)\n",
    " * Applies only to the to physical elements\n",
    " * Called on: state request, during operations e.g. motion, acquisition\n",
    " * Returns: state and optionally status, if no status is returned, it will be composed by Sardana from the state (in case of motor also returns limit switches)\n",
    " * If an exception is raised when reading the state, the axis automatically gets into the Fault state and the status contains the exception details."
   ]
  },
  {
   "cell_type": "markdown",
   "metadata": {
    "slideshow": {
     "slide_type": "subslide"
    }
   },
   "source": [
    "### [Implement StateOne](http://www.sardana-controls.org/devel/howto_controllers/howto_motorcontroller.html#get-motor-state)\n",
    "* Implement AXIS_NAMES class member for quick lookup to motor identifiers\n",
    "* Implement AXIS_ID and VALUE class members for refering to the corresponing part of the answer\n",
    "* Implement method by quering `?state <axis id>`"
   ]
  },
  {
   "cell_type": "markdown",
   "metadata": {
    "slideshow": {
     "slide_type": "subslide"
    }
   },
   "source": [
    "### [Implement ReadOne](http://www.sardana-controls.org/devel/howto_controllers/howto_motorcontroller.html#get-motor-position)\n",
    "* Implement method by quering `?pos <axis id>`"
   ]
  },
  {
   "cell_type": "markdown",
   "metadata": {
    "slideshow": {
     "slide_type": "subslide"
    }
   },
   "source": [
    "### Instantiate top motor\n",
    "* Reload controller code: `relctrlcls BlenderBladesMotorController` \n",
    "* Create motor instance: `defelem top bleblactrl 1`\n",
    "* Ask for motor state: `top.state()`\n",
    "* Ask for motor position: `top.position` or `wm top`"
   ]
  },
  {
   "cell_type": "markdown",
   "metadata": {
    "slideshow": {
     "slide_type": "subslide"
    }
   },
   "source": [
    "### [Implement StartOne](http://www.sardana-controls.org/devel/howto_controllers/howto_motorcontroller.html#move-a-motor)\n",
    "* Implement method by commanding `<axis id> <pos>`"
   ]
  },
  {
   "cell_type": "markdown",
   "metadata": {
    "slideshow": {
     "slide_type": "subslide"
    }
   },
   "source": [
    "### Move top motor\n",
    "* Reload controller code: `relctrlcls BlenderBladesMotorController` \n",
    "* Ask motor to move: `umvr top 10`"
   ]
  },
  {
   "cell_type": "markdown",
   "metadata": {
    "slideshow": {
     "slide_type": "subslide"
    }
   },
   "source": [
    "### [Implement AbortOne](http://www.sardana-controls.org/devel/howto_controllers/howto_motorcontroller.html#abort-a-motor)\n",
    "* Implement method by commanding `abort`"
   ]
  },
  {
   "cell_type": "markdown",
   "metadata": {
    "slideshow": {
     "slide_type": "subslide"
    }
   },
   "source": [
    "### Move and abort top motor\n",
    "* Reload controller code: `relctrlcls BlenderBladesMotorController` \n",
    "* Ask motor to move: `umvr top 50`\n",
    "* Issue `Ctrl+C` in spock"
   ]
  },
  {
   "cell_type": "markdown",
   "metadata": {
    "slideshow": {
     "slide_type": "subslide"
    }
   },
   "source": [
    "### [Implement standard axis attributes](http://www.sardana-controls.org/devel/howto_controllers/howto_motorcontroller.html#standard-axis-attributes) - Homework:)\n",
    "* Implement `GetAxisPar` method\n",
    " * Implement velocity by querying `?vel <axis id>`\n",
    " * Implement acceleration by querying `?acc <axis id>`\n",
    " * Implement deceleration by querying `?dec <axis id>`\n",
    " * Hardcode base_rate to 0\n",
    " * Hardcode steps_per_unit to 1"
   ]
  },
  {
   "cell_type": "markdown",
   "metadata": {
    "slideshow": {
     "slide_type": "subslide"
    }
   },
   "source": [
    "### Read standard axis attributes\n",
    "* `top.velocity`\n",
    "* `top.acceleration`\n",
    "* `top.deceleration`\n",
    "* `top.base_rate`\n",
    "* `top.state_per_unit`"
   ]
  },
  {
   "cell_type": "markdown",
   "metadata": {
    "slideshow": {
     "slide_type": "subslide"
    }
   },
   "source": [
    "### [Implement standard axis attributes](http://www.sardana-controls.org/devel/howto_controllers/howto_motorcontroller.html#standard-axis-attributes) - Homework:)\n",
    "* Implement `setAxisPar` method\n",
    " * Implement velocity by commanding `vel <axis id> <value>`\n",
    " * Implement acceleration by commanding `acc <axis id> <value>`\n",
    " * Implement deceleration by commanding `dec <axis id> <value>`\n",
    " * Raise exception when base_rate is set\n",
    " * Raise exception when steps_per_unit is set\n",
    " \n",
    " "
   ]
  },
  {
   "cell_type": "markdown",
   "metadata": {
    "slideshow": {
     "slide_type": "subslide"
    }
   },
   "source": [
    "### Write standard axis attributes\n",
    "* `top.velocity = 10`\n",
    "* `top.acceleration = 0.1`\n",
    "* `top.deceleration = 0.1`\n",
    "* `top.base_rate = 5` -> exception!\n",
    "* `top.state_per_unit = 100` -> -> exception!\n",
    "* Make some moves..."
   ]
  },
  {
   "cell_type": "markdown",
   "metadata": {
    "slideshow": {
     "slide_type": "subslide"
    }
   },
   "source": [
    "### Align slits\n",
    "* Define rest of the motors:\n",
    " * `defm bottom bleblactrl 2`\n",
    " * `defm left bleblactrl 3`\n",
    " * `defm right bleblactrl 4`\n",
    "* Ask for motor positions: `wm top bottom left right`\n",
    "* Determine direction with relative move and adjust sign:\n",
    " * `bottom.sign = -1`\n",
    " * `left.sign = -1`\n",
    "* Change offset by using the `set_user_pos` macro e.g. `set_user_pos top 0`\n",
    "* Open and close gap by moving physical motors\n",
    "* Move offset by moving the physical motors"
   ]
  },
  {
   "cell_type": "markdown",
   "metadata": {
    "slideshow": {
     "slide_type": "slide"
    }
   },
   "source": [
    "### Slits pseudo motor controller\n",
    "\n",
    "* Open the code: `kwrite sardana-training/controllers/BlenderSlitCtrl.py`"
   ]
  },
  {
   "cell_type": "markdown",
   "metadata": {
    "slideshow": {
     "slide_type": "subslide"
    }
   },
   "source": [
    "### Slits pseudo motor controller - Homework:)\n",
    "* `pseudo_motor_roles` and `motor_roles` class members defines number of pseudo and physical axes used by the controller\n",
    "* Implement `CalcPhysical` method:\n",
    " * Calculate half_gap\n",
    " * top = offset + half_gap \n",
    " * Bottom would be offset - half_gap if directions were common\n",
    " * Since the directions are opposit bottom = half_gap - offset\n",
    "* Implement `CalcPseudo` method:\n",
    " * gap = bottom + top\n",
    " * offset = top - half_gap"
   ]
  },
  {
   "cell_type": "markdown",
   "metadata": {
    "slideshow": {
     "slide_type": "subslide"
    }
   },
   "source": [
    "### Slits pseudo motor controller\n",
    "* Deploy controller: `ln -s /sardana-training/controllers/BlenderSlitCtrl.py /controllers`\n",
    "* Load it in the system, in spock: `addctrllib BlenderSlitCtrl`\n",
    "* Instantiate vertical slits controller: `defctrl BlenderSlit vertctrl top=top bottom=bottom gap=gapvert offset=offsetvert`\n",
    "* Instantiate horizontal slits controller: `defctrl BlenderSlit horctrl top=right bottom=left gap=gaphor offset=offsethor`"
   ]
  },
  {
   "cell_type": "markdown",
   "metadata": {
    "slideshow": {
     "slide_type": "slide"
    }
   },
   "source": [
    "### Network Traffic Counter\n",
    "\n",
    "* Open the code: `kwrite sardana-training/controllers/templates/NetworkTrafficCTCtrl.py`"
   ]
  },
  {
   "cell_type": "markdown",
   "metadata": {
    "slideshow": {
     "slide_type": "subslide"
    }
   },
   "source": [
    "### Network Traffic Counter\n",
    "* Network traffic counter counts bytes that pass via a network interface (both ways)\n",
    "* Demo:\n",
    " * Directly from the system: `cat /proc/net/dev | grep eth0`\n",
    " * Using python function:\n",
    "   * `cd /sardana-training/controllers/`\n",
    "   * `python -c \"from NetworkTrafficCTCtrl import read_network_counts; print read_network_counts('eth0')\"`"
   ]
  },
  {
   "cell_type": "markdown",
   "metadata": {
    "slideshow": {
     "slide_type": "subslide"
    }
   },
   "source": [
    "### [Writing constructor](http://www.sardana-controls.org/devel/howto_controllers/howto_controller.html#constructor)\n",
    "* Constructor\n",
    " * Called on: controllers creation, pool startup and controller's code reload\n",
    " * Accepts arguments: instance (name of the controller instance) and properties (dictionary with the controller properties)\n",
    " * If an exception is raised when constructing the controller, the controller automatically gets into the Fault state and its status describes the exception that occured\n",
    "* [Define controller property](http://www.sardana-controls.org/devel/howto_controllers/howto_controller.html#extra-controller-properties) `interface` - Homework:)"
   ]
  },
  {
   "cell_type": "markdown",
   "metadata": {
    "slideshow": {
     "slide_type": "subslide"
    }
   },
   "source": [
    "### [Writing constructor](http://www.sardana-controls.org/devel/howto_controllers/howto_controller.html#constructor)\n",
    "* Counter will work on the following principle:\n",
    " * Load of the timer will store the integration time in the cache\n",
    " * Start of the counting will latch the current number of bytes\n",
    " * Start of the counting will define the end acquisition time (current time + integration time)\n",
    "* In the constructor we need to instantiate the necessary variables:\n",
    " * acq_time = 1\n",
    " * acq_end_time = time.time()\n",
    " * start_counts = 0"
   ]
  },
  {
   "cell_type": "markdown",
   "metadata": {
    "slideshow": {
     "slide_type": "subslide"
    }
   },
   "source": [
    "### Instantiate controller\n",
    "* Deploy controller: `ln -s /sardana-training/controllers/templates/NetworkTrafficCTCtrl.py /controllers`\n",
    "* Load it in the system - in spock: `addctrllib NetworkTrafficCTCtrl`\n",
    "* Create an instance of the controller: `defctrl NetworkTrafficCounterTimerController netctrl interface eth0`\n",
    "* Ask for controllers state: `netctrl.state()`"
   ]
  },
  {
   "cell_type": "markdown",
   "metadata": {
    "slideshow": {
     "slide_type": "subslide"
    }
   },
   "source": [
    "### [Implement StateOne](http://www.sardana-controls.org/devel/howto_controllers/howto_controller.html#get-axis-state)\n",
    "* Assume state is On\n",
    "* Only if current time is less then the acq_end_time return Moving state\n",
    "* IMPORTANT: due to [sardana-org/sardana#621](https://github.com/sardana-org/sardana/issues/621) return an empty status `\"\"`"
   ]
  },
  {
   "cell_type": "markdown",
   "metadata": {
    "slideshow": {
     "slide_type": "subslide"
    }
   },
   "source": [
    "### [Implement LoadOne](http://www.sardana-controls.org/devel/howto_controllers/howto_countertimercontroller.html#load-a-counter)\n",
    " * receives either integration time or monitor counts (negative number) as arguments \\*\n",
    " * is called only on the controller's timer or monitor\n",
    " \n",
    " * store the integration time in the cache `acq_time`\n",
    " \n",
    "\\* An advanced API is available for continuous acquisitions e.g. continuous scans"
   ]
  },
  {
   "cell_type": "markdown",
   "metadata": {
    "slideshow": {
     "slide_type": "subslide"
    }
   },
   "source": [
    "### [Implement ReadOne](http://www.sardana-controls.org/devel/howto_controllers/howto_countertimercontroller.html#get-counter-value)\n",
    " * returns a single counter value\n",
    " * is called multiple times during the acquisition operation\n",
    "\n",
    " * latch network bytes\n",
    " * return a difference between the current network bytes and `start_counts`\n",
    " \n",
    "\\* An advanced API is available for continuous acquisitions e.g. continuous scans"
   ]
  },
  {
   "cell_type": "markdown",
   "metadata": {
    "slideshow": {
     "slide_type": "subslide"
    }
   },
   "source": [
    "### Instantiate net counter\n",
    "* Reload controller code: `relctrlcls NetworkTrafficCounterTimerController` \n",
    "* Create motor instance: `defelem net netctrl 1`\n",
    "* Ask for motor state: `net.state()`\n",
    "* Ask for counter value: `net.value`"
   ]
  },
  {
   "cell_type": "markdown",
   "metadata": {
    "slideshow": {
     "slide_type": "subslide"
    }
   },
   "source": [
    "### [Implement StartOne](http://www.sardana-controls.org/devel/howto_controllers/howto_countertimercontroller.html#start-a-counter)\n",
    " * receives intergation timer or monitor count as argument\n",
    " * latch the current bytes to `start_counts` and calcultate the end acquisition time in `acq_end_time`\n",
    " * IMPORTANT: Due to [sardana-org/sardana#622](https://github.com/sardana-org/sardana/issues/622) `StartAll` is mandatory\n"
   ]
  },
  {
   "cell_type": "markdown",
   "metadata": {
    "slideshow": {
     "slide_type": "subslide"
    }
   },
   "source": [
    "### Demonstrate single acquisition with net counter\n",
    "* Reload controller code: `relctrlcls NetworkTrafficCounterTimerController` \n",
    "* Create measurement group: `defmeas mntgrp04`\n",
    "* Set the newly created measurement group as active: `senv ActiveMntGrp mntgrp04`\n",
    "* ct -> zero counts!\n",
    "* Install `wget` tool and get sardana CHANGELOG while long counting e.g. `ct 10` execute:\n",
    " * `wget https://github.com/sardana-org/sardana/blob/develop/CHANGELOG.md`"
   ]
  }
 ],
 "metadata": {
  "celltoolbar": "Slideshow",
  "kernelspec": {
   "display_name": "Python 2",
   "language": "python",
   "name": "python2"
  },
  "language_info": {
   "codemirror_mode": {
    "name": "ipython",
    "version": 2
   },
   "file_extension": ".py",
   "mimetype": "text/x-python",
   "name": "python",
   "nbconvert_exporter": "python",
   "pygments_lexer": "ipython2",
   "version": "2.7.13"
  }
 },
 "nbformat": 4,
 "nbformat_minor": 2
}
