{
 "cells": [
  {
   "cell_type": "markdown",
   "metadata": {
    "slideshow": {
     "slide_type": "slide"
    }
   },
   "source": [
    "\n",
    "# Motion controllers\n",
    "<br>\n",
    "<br>\n",
    "<img alt=\"Creative Commons License\" style=\"border-width:0\" src=\"https://i.creativecommons.org/l/by/4.0/88x31.png\" />\n",
    "Sardana-Training by ALBA Synchrotron is licensed under the Creative Commons Attribution 4.0 International License.  \n",
    "To view a copy of this license, visit http://creativecommons.org/licenses/by/4.0/."
   ]
  },
  {
   "cell_type": "markdown",
   "metadata": {
    "slideshow": {
     "slide_type": "slide"
    }
   },
   "source": [
    "## Contents\n",
    "* Writing controller - general\n",
    "* Writing motor controller - Blender blades\n",
    "* Pseudomotor basics - Slit controller"
   ]
  },
  {
   "cell_type": "markdown",
   "metadata": {
    "slideshow": {
     "slide_type": "slide"
    }
   },
   "source": [
    "### Before writing a new controller\n",
    "* Before writing a new controller check in the [catalogue](https://github.com/sardana-org/sardana-plugins) if someone already wrote a similar one\n",
    "* If not, it does not harm to ask on one of the communication channels e.g. mailing list, github issue, etc."
   ]
  },
  {
   "cell_type": "markdown",
   "metadata": {
    "slideshow": {
     "slide_type": "slide"
    }
   },
   "source": [
    "### Controller plugins discovery\n",
    "* Sardana built-in controllers are importable from `sardana.pool.poolcontrollers`\n",
    "* The plugin discovery system is based on directory scanning and python module inspection\n",
    "* Custom controllers should be installed in one of the `PoolPath` directories:\n",
    " * Create /controllers directory: `mkdir ~/controllers`\n",
    " * In spock: `Pool_demo1_1.put_property({\"PoolPath\":[\"/home/vagrant/controllers\"]})`\n",
    " * Restart the Sardana server\n",
    "* The path order is important! Controllers in the higher position paths will take precedence over the lower position paths."
   ]
  },
  {
   "cell_type": "markdown",
   "metadata": {
    "slideshow": {
     "slide_type": "slide"
    }
   },
   "source": [
    "### Blender Blades Motor Controller\n",
    "\n",
    "* Open the code: `kwrite sardana-training/controllers/templates/BlenderBladesMotorCtrl.py`"
   ]
  },
  {
   "cell_type": "markdown",
   "metadata": {
    "slideshow": {
     "slide_type": "subslide"
    }
   },
   "source": [
    "### Blender Blades Motor Controller\n",
    "\n",
    "* Install Blender Slits system: `pip3 install --user /home/vagrant/sardana-training/blender-slits`\n",
    "* Start hardware: `blender-slits-server`\n",
    "* Blender Blades system (NOT PART OF SARDANA): \n",
    " * Communication protocol is explained in: `sardana-training/blender-slits/README.md`\n",
    " * Directions are in the hardware coordinate system\n",
    " * Positions are not calibrated in the local coordinate system - beam axis is not the zero!"
   ]
  },
  {
   "cell_type": "markdown",
   "metadata": {
    "slideshow": {
     "slide_type": "subslide"
    }
   },
   "source": [
    "### [Writing constructor](http://www.sardana-controls.org/devel/howto_controllers/howto_controller.html#constructor)\n",
    "* Constructor\n",
    " * Called on: controllers creation, pool startup and controller's code reload\n",
    " * Accepts arguments: instance (name of the controller instance) and properties (dictionary with the controller properties)\n",
    " * If an exception is raised when constructing the controller, the controller automatically gets into the Fault state and its status describes the exception that occured\n",
    "* Instantiate `BlenderBlades` in the constructor"
   ]
  },
  {
   "cell_type": "markdown",
   "metadata": {
    "slideshow": {
     "slide_type": "subslide"
    }
   },
   "source": [
    "### Instantiate controller\n",
    "* Deploy controller: `ln -s ~/sardana-training/controllers/templates/BlenderBladesMotorCtrl.py ~/controllers`\n",
    "* Load it in the system - in spock: `addctrllib BlenderBladesMotorCtrl`\n",
    "* Create an instance of the controller: `defctrl BlenderBladesMotorController bleblactrl`\n",
    "* Ask for controllers state: `bleblactrl.state()`"
   ]
  },
  {
   "cell_type": "markdown",
   "metadata": {
    "slideshow": {
     "slide_type": "subslide"
    }
   },
   "source": [
    "### [Implement StateOne](http://www.sardana-controls.org/devel/howto_controllers/howto_motorcontroller.html#get-motor-state)\n",
    "* Get axis state (State sequence)\n",
    " * Applies only to the to physical elements\n",
    " * Called on: state request, during operations e.g. motion, acquisition\n",
    " * Returns: state and optionally status, if no status is returned, it will be composed by Sardana from the state (in case of motor also returns limit switches)\n",
    " * If an exception is raised when reading the state, the axis automatically gets into the Fault state and the status contains the exception details."
   ]
  },
  {
   "cell_type": "markdown",
   "metadata": {
    "slideshow": {
     "slide_type": "subslide"
    }
   },
   "source": [
    "### [Implement StateOne](http://www.sardana-controls.org/devel/howto_controllers/howto_motorcontroller.html#get-motor-state)\n",
    "* Implement AXIS_NAMES class member for quick lookup to motor identifiers\n",
    "* Implement AXIS_ID and VALUE class members for refering to the corresponing part of the answer\n",
    "* Implement method by quering `?state <axis id>`"
   ]
  },
  {
   "cell_type": "markdown",
   "metadata": {
    "slideshow": {
     "slide_type": "subslide"
    }
   },
   "source": [
    "### [Implement ReadOne](http://www.sardana-controls.org/devel/howto_controllers/howto_motorcontroller.html#get-motor-position)\n",
    "* Implement method by quering `?pos <axis id>`"
   ]
  },
  {
   "cell_type": "markdown",
   "metadata": {
    "slideshow": {
     "slide_type": "subslide"
    }
   },
   "source": [
    "### Instantiate top motor\n",
    "* Reload controller code: `relctrlcls BlenderBladesMotorController` \n",
    "* Create motor instance: `defelem top bleblactrl 1`\n",
    "* Ask for motor state: `top.state()`\n",
    "* Ask for motor position: `top.position` or `wm top`"
   ]
  },
  {
   "cell_type": "markdown",
   "metadata": {
    "slideshow": {
     "slide_type": "subslide"
    }
   },
   "source": [
    "### [Implement StartOne](http://www.sardana-controls.org/devel/howto_controllers/howto_motorcontroller.html#move-a-motor)\n",
    "* Implement method by commanding `<axis id> <pos>`"
   ]
  },
  {
   "cell_type": "markdown",
   "metadata": {
    "slideshow": {
     "slide_type": "subslide"
    }
   },
   "source": [
    "### Move top motor\n",
    "* Reload controller code: `relctrlcls BlenderBladesMotorController` \n",
    "* Ask motor to move: `umvr top 10`"
   ]
  },
  {
   "cell_type": "markdown",
   "metadata": {
    "slideshow": {
     "slide_type": "subslide"
    }
   },
   "source": [
    "### [Implement AbortOne](http://www.sardana-controls.org/devel/howto_controllers/howto_motorcontroller.html#abort-a-motor)\n",
    "* Implement method by commanding `abort`"
   ]
  },
  {
   "cell_type": "markdown",
   "metadata": {
    "slideshow": {
     "slide_type": "subslide"
    }
   },
   "source": [
    "### Move and abort top motor\n",
    "* Reload controller code: `relctrlcls BlenderBladesMotorController` \n",
    "* Ask motor to move: `umvr top 50`\n",
    "* Issue `Ctrl+C` in spock"
   ]
  },
  {
   "cell_type": "markdown",
   "metadata": {
    "slideshow": {
     "slide_type": "subslide"
    }
   },
   "source": [
    "### [Implement standard axis attributes](http://www.sardana-controls.org/devel/howto_controllers/howto_motorcontroller.html#standard-axis-attributes)\n",
    "* Implement `GetAxisPar` method\n",
    " * Implement velocity by querying `?vel <axis id>`\n",
    " * Implement acceleration by querying `?acc <axis id>`\n",
    " * Implement deceleration by querying `?dec <axis id>`\n",
    " * Hardcode base_rate to 0\n",
    " * Hardcode steps_per_unit to 1"
   ]
  },
  {
   "cell_type": "markdown",
   "metadata": {
    "slideshow": {
     "slide_type": "subslide"
    }
   },
   "source": [
    "### Read standard axis attributes\n",
    "* `top.velocity`\n",
    "* `top.acceleration`\n",
    "* `top.deceleration`\n",
    "* `top.base_rate`\n",
    "* `top.state_per_unit`"
   ]
  },
  {
   "cell_type": "markdown",
   "metadata": {
    "slideshow": {
     "slide_type": "subslide"
    }
   },
   "source": [
    "### [Implement standard axis attributes](http://www.sardana-controls.org/devel/howto_controllers/howto_motorcontroller.html#standard-axis-attributes)\n",
    "* Implement `SetAxisPar` method\n",
    " * Implement velocity by commanding `vel <axis id> <value>`\n",
    " * Implement acceleration by commanding `acc <axis id> <value>`\n",
    " * Implement deceleration by commanding `dec <axis id> <value>`\n",
    " * Raise exception when base_rate is set\n",
    " * Raise exception when steps_per_unit is set\n",
    " \n",
    " "
   ]
  },
  {
   "cell_type": "markdown",
   "metadata": {
    "slideshow": {
     "slide_type": "subslide"
    }
   },
   "source": [
    "### Write standard axis attributes\n",
    "* `top.velocity = 10`\n",
    "* `top.acceleration = 0.1`\n",
    "* `top.deceleration = 0.1`\n",
    "* `top.base_rate = 5` -> exception!\n",
    "* `top.state_per_unit = 100` -> exception!\n",
    "* Make some moves..."
   ]
  },
  {
   "cell_type": "markdown",
   "metadata": {
    "slideshow": {
     "slide_type": "subslide"
    }
   },
   "source": [
    "### Align slits\n",
    "* Define the rest of the motors:\n",
    " * `defm bottom bleblactrl 2`\n",
    " * `defm left bleblactrl 3`\n",
    " * `defm right bleblactrl 4`\n",
    "* Ask for motor positions: `wm top bottom left right`\n",
    "* Determine direction with relative move and adjust sign:\n",
    " * `bottom.sign = -1`\n",
    " * `left.sign = -1`\n",
    "* Change offset by using the `set_user_pos` macro e.g. `set_user_pos top 0`\n",
    "* Open and close gap by moving physical motors\n",
    "* Move offset by moving the physical motors"
   ]
  },
  {
   "cell_type": "markdown",
   "metadata": {
    "slideshow": {
     "slide_type": "slide"
    }
   },
   "source": [
    "### Pseudomotor basics - Slit\n",
    "\n",
    "* `Slit` controller - Sardana's standard slit controller\n",
    "* Physical axes = motors that will be moved\n",
    "* Pseudo axes = virtual axes consisting of physical axes\n",
    "* `pseudo_motor_roles` and `motor_roles` class members defines number of pseudo and physical axes used by the controller\n",
    "* Instantiate vertical slits controller: `defctrl Slit vertctrl sl2t=top sl2b=bottom Gap=gapvert Offset=offsetvert`\n",
    "* Instantiate horizontal slits controller: `defctrl Slit horctrl sl2t=right sl2b=left Gap=gaphor Offset=offsethor`"
   ]
  },
  {
   "cell_type": "markdown",
   "metadata": {
    "slideshow": {
     "slide_type": "subslide"
    }
   },
   "source": [
    "### Inside Slit controller\n",
    "\n",
    "* `CalcPhysical` method, for calculating physical axes positions based on pseudo axes position\n",
    " * Calculate half_gap\n",
    " * top = offset + half_gap \n",
    " * Bottom would be offset - half_gap if directions were common\n",
    " * Since the directions are opposit bottom = half_gap - offset\n",
    "* `CalcPseudo` method, for calculating pseudo axes positions based on physical ones\n",
    " * gap = bottom + top\n",
    " * offset = top - half_gap"
   ]
  }
 ],
 "metadata": {
  "celltoolbar": "Slideshow",
  "kernelspec": {
   "display_name": "Python 2",
   "language": "python",
   "name": "python2"
  },
  "language_info": {
   "codemirror_mode": {
    "name": "ipython",
    "version": 2
   },
   "file_extension": ".py",
   "mimetype": "text/x-python",
   "name": "python",
   "nbconvert_exporter": "python",
   "pygments_lexer": "ipython2",
   "version": "2.7.13"
  }
 },
 "nbformat": 4,
 "nbformat_minor": 2
}
