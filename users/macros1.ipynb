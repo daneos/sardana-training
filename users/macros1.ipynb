{
 "cells": [
  {
   "cell_type": "markdown",
   "metadata": {
    "slideshow": {
     "slide_type": "slide"
    }
   },
   "source": [
    "# MACROSERVER & SCANS\n",
    "<br>\n",
    "<br>\n",
    "<img alt=\"Creative Commons License\" style=\"border-width:0\" src=\"https://i.creativecommons.org/l/by/4.0/88x31.png\" />\n",
    "Sardana-Training by ALBA Synchrotron is licensed under the Creative Commons Attribution 4.0 International License.  \n",
    "To view a copy of this license, visit http://creativecommons.org/licenses/by/4.0/."
   ]
  },
  {
   "cell_type": "markdown",
   "metadata": {
    "slideshow": {
     "slide_type": "slide"
    }
   },
   "source": [
    "## Contents\n",
    "\n",
    "* MacroServer overview\n",
    "* Generic Scan Framework\n",
    "* Recorders"
   ]
  },
  {
   "cell_type": "markdown",
   "metadata": {
    "slideshow": {
     "slide_type": "slide"
    }
   },
   "source": [
    "## [MacroServer overview](http://www.sardana-controls.org/devel/overview/overview_macroserver.html)\n",
    "\n",
    "* Is a controlled environment to run procedures, called macros, sequentially or simultaneously (using multiple entry-points called *Doors*)\n",
    "* Provides a standard [catalogue](http://www.sardana-controls.org/users/standard_macro_catalog.html) of procedures.\n",
    "* Macros syntax is inspired on the SPEC control system syntax\n",
    "* Allows to plug in new/custom procedures written as Python functions or classes\n",
    "* Connects to device Pool(s) and allows to act on their elements from within macros"
   ]
  },
  {
   "cell_type": "markdown",
   "metadata": {
    "slideshow": {
     "slide_type": "slide"
    }
   },
   "source": [
    "## Generic Scan Framework (GSF)\n",
    "\n",
    "* Scanning modes: step, continuous (pure software - c, hardware and software - ct), hybrid and time\n",
    "* Provides the catalogue of turn-key scan macros e.g. `ascan`, `dscan`, `a2scanc`, `ascanct`, `mesh`, `timescan`, etc.\n",
    "* Provides the base classes for developing custom scans e.g. `GScan`, `SScan`, `CScan`, etc.\n",
    "* Custom scans are developed by instantiating the base class and developing a custom generator\n",
    "* Scans are highly configurable with the [environment variables](http://www.sardana-controls.org/users/scan.html#configuration) e.g. `ActiveMntGrp`, `ScanFile`, `ApplyInterpolation`\n",
    "* Scans macros [support hooks](http://www.sardana-controls.org/devel/howto_macros/scan_framework.html#hooks-support-in-scans) e.g. `pre-scan`, `post-acq`"
   ]
  },
  {
   "cell_type": "markdown",
   "metadata": {
    "slideshow": {
     "slide_type": "slide"
    }
   },
   "source": [
    "## Generic Scan Framework - demo\n",
    "\n",
    "* Start taurustrend with high frequency of polling: `taurustrend mot01/position \"eval:bool({ct01/state})\" -r 10`\n",
    " * Configure fill area of the state curve using the *Plot configuration* feature\n",
    "* Configure measurement group: `senv ActiveMntGrp mntgrp01`\n",
    "* Configure long acceleration and deceleration times: `mot01.acceleration = 2` and `mot01.deceleration = 2`\n",
    "* Demonstrate step scan: `ascan mot01 0 10 10 1`\n",
    "* Demonstrate continuous scan: `ascanct mot01 0 10 10 1 0.1`"
   ]
  },
  {
   "cell_type": "markdown",
   "metadata": {
    "slideshow": {
     "slide_type": "slide"
    }
   },
   "source": [
    "## [Recorders](http://www.sardana-controls.org/devel/howto_recorders.html#writing-recorders)\n",
    "\n",
    "![Sardana data flow](res/recorders.png)"
   ]
  },
  {
   "cell_type": "markdown",
   "metadata": {
    "slideshow": {
     "slide_type": "slide"
    }
   },
   "source": [
    "## Recorders - demo\n",
    "\n",
    "### Demonstrate recorder selection based on the file extension\n",
    "\n",
    "* In spock start `expconf`\n",
    "* Set scan file to `test.h5` and directory to `/tmp` (equivalent in Spock with `senv ScanFile test.h5` and `senv ScanDir /tmp`)\n",
    "* Repeat the last scan: `ascanct mot01 0 10 10 1 0.1`\n",
    "* Access to the data with `showscan`"
   ]
  },
  {
   "cell_type": "code",
   "execution_count": null,
   "metadata": {
    "collapsed": true
   },
   "outputs": [],
   "source": []
  }
 ],
 "metadata": {
  "celltoolbar": "Slideshow",
  "kernelspec": {
   "display_name": "Python 2",
   "language": "python",
   "name": "python2"
  },
  "language_info": {
   "codemirror_mode": {
    "name": "ipython",
    "version": 2
   },
   "file_extension": ".py",
   "mimetype": "text/x-python",
   "name": "python",
   "nbconvert_exporter": "python",
   "pygments_lexer": "ipython2",
   "version": "2.7.13"
  }
 },
 "nbformat": 4,
 "nbformat_minor": 2
}
