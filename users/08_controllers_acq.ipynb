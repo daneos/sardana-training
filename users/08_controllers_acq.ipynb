{
 "cells": [
  {
   "cell_type": "markdown",
   "metadata": {
    "slideshow": {
     "slide_type": "slide"
    }
   },
   "source": [
    "\n",
    "# Data acquisition controllers\n",
    "<br>\n",
    "<br>\n",
    "<img alt=\"Creative Commons License\" style=\"border-width:0\" src=\"https://i.creativecommons.org/l/by/4.0/88x31.png\" />\n",
    "Sardana-Training by ALBA Synchrotron is licensed under the Creative Commons Attribution 4.0 International License.  \n",
    "To view a copy of this license, visit http://creativecommons.org/licenses/by/4.0/."
   ]
  },
  {
   "cell_type": "markdown",
   "metadata": {
    "slideshow": {
     "slide_type": "slide"
    }
   },
   "source": [
    "## Contents\n",
    "\n",
    "* Writing counter/timer controller - Network Trafic Counter\n",
    "* Playing with Blender Detector - 2D experimental channel controller"
   ]
  },
  {
   "cell_type": "markdown",
   "metadata": {
    "slideshow": {
     "slide_type": "slide"
    }
   },
   "source": [
    "### Network Traffic Counter\n",
    "\n",
    "* Open the code: `kwrite sardana-training/controllers/templates/NetworkTrafficCTCtrl.py`"
   ]
  },
  {
   "cell_type": "markdown",
   "metadata": {
    "slideshow": {
     "slide_type": "subslide"
    }
   },
   "source": [
    "### Network Traffic Counter\n",
    "* Network traffic counter counts bytes that pass via a network interface (both ways)\n",
    "* Demo:\n",
    " * Directly from the system: `cat /proc/net/dev | grep eth0`\n",
    " * Using python function:\n",
    "   * `cd ~/sardana-training/controllers/`\n",
    "   * `python3 -c \"from NetworkTrafficCTCtrl import read_network_counts; print(read_network_counts('eth0'))\"`"
   ]
  },
  {
   "cell_type": "markdown",
   "metadata": {
    "slideshow": {
     "slide_type": "subslide"
    }
   },
   "source": [
    "### [Writing constructor](http://www.sardana-controls.org/devel/howto_controllers/howto_controller.html#constructor)\n",
    "* Constructor\n",
    " * Called on: controllers creation, pool startup and controller's code reload\n",
    " * Accepts arguments: instance (name of the controller instance) and properties (dictionary with the controller properties)\n",
    " * If an exception is raised when constructing the controller, the controller automatically gets into the Fault state and its status describes the exception that occured\n",
    "* [Define controller property](http://www.sardana-controls.org/devel/howto_controllers/howto_controller.html#extra-controller-properties) `interface`"
   ]
  },
  {
   "cell_type": "markdown",
   "metadata": {
    "slideshow": {
     "slide_type": "subslide"
    }
   },
   "source": [
    "### [Writing constructor](http://www.sardana-controls.org/devel/howto_controllers/howto_controller.html#constructor)\n",
    "* Counter will work on the following principle:\n",
    " * Load of the timer will store the integration time in the cache\n",
    " * Start of the counting will latch the current number of bytes\n",
    " * Start of the counting will define the end acquisition time (current time + integration time)\n",
    "* In the constructor we need to instantiate the necessary variables:\n",
    " * acq_time = 1\n",
    " * acq_end_time = time.time()\n",
    " * start_counts = 0"
   ]
  },
  {
   "cell_type": "markdown",
   "metadata": {
    "slideshow": {
     "slide_type": "subslide"
    }
   },
   "source": [
    "### Instantiate controller\n",
    "* Deploy controller: `ln -s ~/sardana-training/controllers/templates/NetworkTrafficCTCtrl.py ~/controllers`\n",
    "* Load it in the system - in spock: `addctrllib NetworkTrafficCTCtrl`\n",
    "* Create an instance of the controller: `defctrl NetworkTrafficCounterTimerController netctrl interface eth0`\n",
    "* Ask for controllers state: `netctrl.state()`"
   ]
  },
  {
   "cell_type": "markdown",
   "metadata": {
    "slideshow": {
     "slide_type": "subslide"
    }
   },
   "source": [
    "### [Implement StateOne](http://www.sardana-controls.org/devel/howto_controllers/howto_controller.html#get-axis-state)\n",
    "* Assume state is On\n",
    "* Only if current time is less then the acq_end_time return Moving state\n",
    "* IMPORTANT: due to [sardana-org/sardana#621](https://github.com/sardana-org/sardana/issues/621) return an empty status `\"\"`"
   ]
  },
  {
   "cell_type": "markdown",
   "metadata": {
    "slideshow": {
     "slide_type": "subslide"
    }
   },
   "source": [
    "### [Implement LoadOne](http://www.sardana-controls.org/devel/howto_controllers/howto_countertimercontroller.html#load-a-counter)\n",
    " * receives either integration time or monitor counts (negative number) as arguments \\*\n",
    " * is called only on the controller's timer or monitor\n",
    " \n",
    " * store the integration time in the cache `acq_time`\n",
    " \n",
    "\\* An advanced API is available for continuous acquisitions e.g. continuous scans"
   ]
  },
  {
   "cell_type": "markdown",
   "metadata": {
    "slideshow": {
     "slide_type": "subslide"
    }
   },
   "source": [
    "### [Implement ReadOne](http://www.sardana-controls.org/devel/howto_controllers/howto_countertimercontroller.html#get-counter-value)\n",
    " * returns a single counter value\n",
    " * is called multiple times during the acquisition operation\n",
    "\n",
    " * latch network bytes\n",
    " * return a difference between the current network bytes and `start_counts`\n",
    " \n",
    "\\* An advanced API is available for continuous acquisitions e.g. continuous scans"
   ]
  },
  {
   "cell_type": "markdown",
   "metadata": {
    "slideshow": {
     "slide_type": "subslide"
    }
   },
   "source": [
    "### Instantiate net counter\n",
    "* Reload controller code: `relctrlcls NetworkTrafficCounterTimerController` \n",
    "* Create motor instance: `defelem net netctrl 1`\n",
    "* Ask for motor state: `net.state()`\n",
    "* Ask for counter value: `net.value`"
   ]
  },
  {
   "cell_type": "markdown",
   "metadata": {
    "slideshow": {
     "slide_type": "subslide"
    }
   },
   "source": [
    "### [Implement StartOne](http://www.sardana-controls.org/devel/howto_controllers/howto_countertimercontroller.html#start-a-counter)\n",
    " * receives intergation timer or monitor count as argument\n",
    " * latch the current bytes to `start_counts` and calcultate the end acquisition time in `acq_end_time`"
   ]
  },
  {
   "cell_type": "markdown",
   "metadata": {
    "slideshow": {
     "slide_type": "subslide"
    }
   },
   "source": [
    "### Demonstrate single acquisition with net counter\n",
    "* Reload controller code: `relctrlcls NetworkTrafficCounterTimerController` \n",
    "* `ct 1 net` -> zero counts!\n",
    "* Install `wget` tool and get sardana CHANGELOG while long counting e.g. `ct net 10` execute:\n",
    " * `wget https://github.com/sardana-org/sardana/blob/develop/CHANGELOG.md`\n"
   ]
  }
 ],
 "metadata": {
  "celltoolbar": "Slideshow",
  "kernelspec": {
   "display_name": "Python 3",
   "language": "python",
   "name": "python3"
  },
  "language_info": {
   "codemirror_mode": {
    "name": "ipython",
    "version": 3
   },
   "file_extension": ".py",
   "mimetype": "text/x-python",
   "name": "python",
   "nbconvert_exporter": "python",
   "pygments_lexer": "ipython3",
   "version": "3.5.3"
  }
 },
 "nbformat": 4,
 "nbformat_minor": 2
}
