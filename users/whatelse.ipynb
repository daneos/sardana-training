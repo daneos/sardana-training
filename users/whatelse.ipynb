{
 "cells": [
  {
   "cell_type": "markdown",
   "metadata": {},
   "source": [
    "## ZeroD channels - software sampling\n",
    "* Read scalar values but without counting capability\n",
    "* Read loop with value buffer\n",
    "* Apply custom transformation to the gathered values"
   ]
  },
  {
   "cell_type": "markdown",
   "metadata": {},
   "source": [
    "## Pseudo counters - transformation of counter values\n",
    "* Perform calculations on counter values\n",
    "* Provide results as another measurement channel"
   ]
  },
  {
   "cell_type": "markdown",
   "metadata": {},
   "source": [
    "## Configuration tools\n",
    "* Full-fledged solution is not ready yet\n",
    "* Few different options:\n",
    "    - `dsconfig` and `sardana-dsconfig` from MAX IV\n",
    "    - Ansible plugin for configuring Tango database\n",
    "    - FODS (flat ODS) spreadsheets"
   ]
  },
  {
   "cell_type": "markdown",
   "metadata": {},
   "source": [
    "## Eval scheme\n",
    "* Evaluate any Python expression and use its value as Taurus data source\n",
    "* Example: `eval:123.4*{tango:sys/tg_test/1/double_scalar}`"
   ]
  },
  {
   "cell_type": "markdown",
   "metadata": {},
   "source": [
    "## Advanced motion features\n",
    "* Possibility to fine tune moveables behaviour\n",
    "* Backlash:\n",
    "    - Over travel and go back\n",
    "    - Stop at given position always from one direction\n",
    "* Limit protection:\n",
    "    - In addition to hardware limit switches\n",
    "    - Software limits, that are checked before starting motion\n",
    "* Position calibration:\n",
    "    - Used to change the reference frame for axis movement\n",
    "    - Sign - allows to change the apparent movement direction in software\n",
    "    - Offset - change software position values\n",
    "* Drift correction:\n",
    "    - Correct positioning inaccuracy of the hardware\n",
    "    - Prevent accumulation of positioning errors\n",
    "    - For detailed description [check the documentation](https://sardana-controls.org/devel/api/api_pseudomotor.html#sardana-pseudomotor-api-driftcorrection)"
   ]
  },
  {
   "cell_type": "markdown",
   "metadata": {},
   "source": [
    "## Synchronization\n",
    "* Synchronization types\n",
    "    - Software - best-effort software synchronizer\n",
    "    - Hardware - make use of dedicated synchronization hardware\n",
    "* Synchronization modes\n",
    "    - Trigger - start measurement for given time on single trigger event\n",
    "    - Gate - measure for how long the gate signal is active\n",
    "    - Start - run whole measurement sequence on single start event\n",
    "* Synchronization domains\n",
    "    - Time - synchronize measurements based on given time and duration\n",
    "    - Position - synchronize measurements with moveable position\n",
    "* [TODO] equidistant, non-equidistant"
   ]
  },
  {
   "cell_type": "markdown",
   "metadata": {},
   "source": [
    "## Units support\n",
    "* `pint` module\n",
    "* Support for managing and displaying units of values\n",
    "* Unit matching and conversion (?)"
   ]
  },
  {
   "cell_type": "markdown",
   "metadata": {},
   "source": [
    "## QtSpock\n",
    "* Simple way to embed Spock console inside Qt application\n",
    "* Implemented as Qt widget"
   ]
  },
  {
   "cell_type": "code",
   "execution_count": null,
   "metadata": {},
   "outputs": [],
   "source": []
  }
 ],
 "metadata": {
  "kernelspec": {
   "display_name": "Python 2",
   "language": "python",
   "name": "python2"
  },
  "language_info": {
   "codemirror_mode": {
    "name": "ipython",
    "version": 2
   },
   "file_extension": ".py",
   "mimetype": "text/x-python",
   "name": "python",
   "nbconvert_exporter": "python",
   "pygments_lexer": "ipython2",
   "version": "2.7.12"
  }
 },
 "nbformat": 4,
 "nbformat_minor": 2
}
