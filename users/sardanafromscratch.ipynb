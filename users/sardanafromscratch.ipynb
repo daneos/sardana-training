{
 "cells": [
  {
   "cell_type": "markdown",
   "metadata": {
    "slideshow": {
     "slide_type": "slide"
    }
   },
   "source": [
    "# Installation and configuration of Sardana system from scratch\n",
    "<br>\n",
    "<br>\n",
    "<img alt=\"Creative Commons License\" style=\"border-width:0\" src=\"https://i.creativecommons.org/l/by/4.0/88x31.png\" />\n",
    "Sardana-Training by ALBA Synchrotron is licensed under the Creative Commons Attribution 4.0 International License.  \n",
    "To view a copy of this license, visit http://creativecommons.org/licenses/by/4.0/."
   ]
  },
  {
   "cell_type": "markdown",
   "metadata": {
    "slideshow": {
     "slide_type": "slide"
    }
   },
   "source": [
    "# Installation and configuration of Sardana system from scratch\n",
    "\n",
    "* How to install sardana suite\n",
    "    * Review dependencies\n",
    "* Present docker images sardana-test/taurus-test\n",
    "* Create the workshop enviroment\n",
    "    * Create Sardana system\n",
    "    * Create spock profile & run spock\n",
    "    * Demo spock"
   ]
  },
  {
   "cell_type": "markdown",
   "metadata": {
    "slideshow": {
     "slide_type": "slide"
    }
   },
   "source": [
    "# How to install sardana suite\n",
    "\n",
    "## [Taurus](http://www.taurus-scada.org/users/getting_started.html#installing)\n",
    "* [Debian Packages](https://packages.debian.org/search?keywords=python-taurus)\n",
    "```\n",
    "apt-get install python-taurus\n",
    "```\n",
    "* [PyPy and pip](https://pypi.python.org/pypi/taurus/4.1.1)\n",
    "```\n",
    "pip install taurus\n",
    "```\n",
    "* From [gitHub](https://github.com/taurus-org)\n",
    "```\n",
    "git clone https://github.com/taurus-org/taurus.git\n",
    "cd taurus\n",
    "python setup.py install\n",
    "```\n",
    "\n"
   ]
  },
  {
   "cell_type": "markdown",
   "metadata": {
    "slideshow": {
     "slide_type": "subslide"
    }
   },
   "source": [
    "# [Taurus dependencies](http://www.taurus-scada.org/users/getting_started.html#dependencies)\n",
    "\n",
    "* python 2.7\n",
    "* lxml\n",
    "* numpy >=1.1\n",
    "* pint\n",
    "* taurus-epics\n",
    "    * pyepics\n",
    "* taurus-h5file\n",
    "    * h5file\n",
    "* taurus-tango:\n",
    "    * PyTango\n",
    "* taurus-qt\n",
    "    * ply\n",
    "    * guiqwt\n",
    "    * qt4\n",
    "    * qwt5-qt4\n",
    "* taurus-qt-editor\n",
    "    * spyderlib >=3\n",
    "* Others:\n",
    "    * pymca"
   ]
  },
  {
   "cell_type": "markdown",
   "metadata": {
    "slideshow": {
     "slide_type": "subslide"
    }
   },
   "source": [
    "# How to install sardana suite\n",
    "## [Sardana](http://www.sardana-controls.org/users/getting_started/installing.html#installing)\n",
    "\n",
    "* [Debian Packages](https://packages.debian.org/search?keywords=python-sardana)\n",
    "```\n",
    "apt-get install python-sardana\n",
    "```\n",
    "* [PyPy and pip](https://pypi.python.org/pypi/sardana/2.3.2)\n",
    "```\n",
    "pip install sardana\n",
    "```\n",
    "* From [gitHub](https://github.com/sardana-org)\n",
    "```\n",
    "git clone https://github.com/sardana-org/sardana.git\n",
    "cd sardana\n",
    "python setup.py install\n",
    "```"
   ]
  },
  {
   "cell_type": "markdown",
   "metadata": {
    "slideshow": {
     "slide_type": "subslide"
    }
   },
   "source": [
    "# [Sardana dependencies](http://www.sardana-controls.org/users/getting_started/installing.html#dependencies)\n",
    "\n",
    "* python 2\n",
    "* lxml\n",
    "* PyTango >= 7.2.6\n",
    "    * itango\n",
    "* Taurus >= 3.6.0\n",
    "* Others:\n",
    "    * hkl\n",
    "    * h5py"
   ]
  },
  {
   "cell_type": "markdown",
   "metadata": {
    "slideshow": {
     "slide_type": "slide"
    }
   },
   "source": [
    "# Taurus docker image: [taurus-test](https://hub.docker.com/r/cpascual/taurus-test/)\n",
    "\n",
    "* Debian images for:\n",
    "    * Jessie:   \n",
    "    ``` \n",
    "    docker pull cpascual/taurus-test:debian-jessie\n",
    "    ```\n",
    "    * Stretch:  \n",
    "    ```\n",
    "    docker pull cpascual/taurus-test:debian-stretch\n",
    "    ```\n",
    "    * Buster:  \n",
    "    ```\n",
    "    docker pull cpascual/taurus-test:debian-buster\n",
    "    ```\n",
    "\n",
    "* Docker taurus-test provides:  \n",
    "    * Taurus dependencies and recommended packages (PyTango, PyQt, Qwt, EPICS...)\n",
    "    * A TangoDB, a TangoTest DS configured and running and EPICS IOC\n",
    "\n"
   ]
  },
  {
   "cell_type": "markdown",
   "metadata": {
    "slideshow": {
     "slide_type": "subslide"
    }
   },
   "source": [
    "# Sardana docker image: [sardana-test](https://hub.docker.com/r/reszelaz/sardana-test/)\n",
    "\n",
    "* Debian images for:\n",
    "    * Jessie:  \n",
    "    ```\n",
    "    docker pull reszelaz/sardana-test:latest\n",
    "    ```\n",
    "    * Stretch:  \n",
    "    ```\n",
    "    docker pull reszelaz/sardana-test:deb9taurus4\n",
    "    ```\n",
    "\n",
    "* Docker sardana-test provides:  \n",
    "    * Sardana dependencies and recommended packages (Taurus, PyTango, PyQt, Qwt...)\n",
    "    * A TangoDB and a TangoTest DS configured and running\n",
    "    * A Pool and MacroServer populated and running"
   ]
  },
  {
   "cell_type": "markdown",
   "metadata": {
    "slideshow": {
     "slide_type": "slide"
    }
   },
   "source": [
    "# Create the workshop enviroment\n",
    "\n",
    "## Create a clean docker container for Sardana Suite installation \n",
    "\n",
    "   \n",
    "* Pull the **taurus-test** image from dockerhub\n",
    "```\n",
    "docker pull cpascual/taurus-test:debian-stretch\n",
    "```\n",
    "\n",
    "* Clone the sardana training \n",
    "```\n",
    "git clone https://github.com/sardana-org/sardana-training  \n",
    "```\n",
    "\n",
    "* Instantiate and execute the docker container\n",
    "```\n",
    "xhost +local:\n",
    "docker run -d --privileged --name=taurus-stretch -h taurus-test -e DISPLAY=$DISPLAY -e QT_X11_NO_MITSHM=1 -v /tmp/.X11-unix:/tmp/.X11-unix -v $(pwd)/sardana-training:/sardana-training cpascual/taurus-test:debian-stretch\n",
    "docker exec -it taurus-stretch bash\n",
    "```\n",
    "  \n",
    "* Install workshop dependencies\n",
    "```\n",
    "docker exec -it taurus-stretch bash\n",
    "apt-get install python-opencv python-xlib blender wget net-tools telnet -y\n",
    "```"
   ]
  },
  {
   "cell_type": "markdown",
   "metadata": {
    "slideshow": {
     "slide_type": "subslide"
    }
   },
   "source": [
    "# Install Sardana suite\n",
    "\n",
    "* Taurus installation from source code\n",
    "```\n",
    "git clone -b icalepcs2017 https://github.com/taurus-org/taurus.git\n",
    "cd taurus\n",
    "python setup.py install\n",
    "cd ..\n",
    "```\n",
    "    * Taurus library, and GUIs\n",
    "* Sardana installation from source code\n",
    "```\n",
    "git clone -b icalepcs2017 https://github.com/sardana-org/sardana.git\n",
    "cd sardana\n",
    "python setup.py install\n",
    "cd ..\n",
    "```\n",
    "  * Sardana library, Device servers (Pool, MacroServer), Controllers, Macros, CLI anf GUIs"
   ]
  },
  {
   "cell_type": "markdown",
   "metadata": {
    "slideshow": {
     "slide_type": "subslide"
    }
   },
   "source": [
    "## Run and populate Sardana\n",
    "  \n",
    "* The goal:\n",
    "\n",
    "![sardana](res/sardana.png)\n",
    "\n"
   ]
  },
  {
   "cell_type": "markdown",
   "metadata": {
    "slideshow": {
     "slide_type": "subslide"
    }
   },
   "source": [
    "* Instantiate the **Sardana Tango Device Server**:\n",
    "\n",
    "```\n",
    "Sardana demo1\n",
    "```\n"
   ]
  },
  {
   "cell_type": "markdown",
   "metadata": {
    "slideshow": {
     "slide_type": "subslide"
    }
   },
   "source": [
    "![sardana_empty](res/sardana_empty.png)"
   ]
  },
  {
   "cell_type": "markdown",
   "metadata": {
    "slideshow": {
     "slide_type": "subslide"
    }
   },
   "source": [
    "### Run spock\n",
    "\n",
    "* CLI based on IPython\n",
    "* Single point of control - allows to execute macros and control elements\n",
    "* Allows to work with multiple profiles i.e. connecting to different doors\n",
    "\n",
    "```\n",
    "spock\n",
    "```\n",
    "\n",
    "### Populate sardana from spock:\n",
    "\n",
    "```\n",
    "sar_demo?\n",
    "```"
   ]
  },
  {
   "cell_type": "markdown",
   "metadata": {
    "slideshow": {
     "slide_type": "subslide"
    }
   },
   "source": [
    "## [Macros and other magic commands]\n",
    "\n",
    "* Sardana macro [catalog](http://www.sardana-controls.org/users/standard_macro_catalog.html)\n",
    "* ascan example:\n",
    "\n",
    "```\n",
    "ascan?\n",
    "```\n",
    "\n",
    "\n"
   ]
  }
 ],
 "metadata": {
  "celltoolbar": "Slideshow",
  "kernelspec": {
   "display_name": "Python 2",
   "language": "python",
   "name": "python2"
  },
  "language_info": {
   "codemirror_mode": {
    "name": "ipython",
    "version": 2
   },
   "file_extension": ".py",
   "mimetype": "text/x-python",
   "name": "python",
   "nbconvert_exporter": "python",
   "pygments_lexer": "ipython2",
   "version": "2.7.13"
  }
 },
 "nbformat": 4,
 "nbformat_minor": 0
}
