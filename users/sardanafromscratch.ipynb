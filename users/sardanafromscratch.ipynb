{
 "cells": [
  {
   "cell_type": "markdown",
   "metadata": {
    "slideshow": {
     "slide_type": "slide"
    }
   },
   "source": [
    "# Installation and configuration of Sardana system from scratch\n",
    "<br>\n",
    "<br>\n",
    "<img alt=\"Creative Commons License\" style=\"border-width:0\" src=\"https://i.creativecommons.org/l/by/4.0/88x31.png\" />\n",
    "Sardana-Training by ALBA Synchrotron is licensed under the Creative Commons Attribution 4.0 International License.  \n",
    "To view a copy of this license, visit http://creativecommons.org/licenses/by/4.0/."
   ]
  },
  {
   "cell_type": "markdown",
   "metadata": {
    "slideshow": {
     "slide_type": "slide"
    }
   },
   "source": [
    "# Installation and configuration of Sardana system from scratch\n",
    "\n",
    "* How to install Sardana Suite\n",
    "    * Review dependencies\n",
    "* Present Docker images: sardana-test & taurus-test\n",
    "* Create the workshop enviroment\n",
    "    * Create and run Sardana server\n",
    "    * Create profile and run Spock CLI\n",
    "    * Create simulated environment and quick demo"
   ]
  },
  {
   "cell_type": "markdown",
   "metadata": {
    "slideshow": {
     "slide_type": "slide"
    }
   },
   "source": [
    "# How to install sardana suite\n",
    "\n",
    "## [Taurus](http://www.taurus-scada.org/users/getting_started.html#installing)\n",
    "* [Debian Packages](https://packages.debian.org/search?keywords=python-taurus)\n",
    "```\n",
    "apt-get install python-taurus\n",
    "```\n",
    "* [PyPI and pip](https://pypi.python.org/pypi/taurus/4.6.1)\n",
    "```\n",
    "pip install taurus\n",
    "```\n",
    "* From [GitHub](https://github.com/taurus-org)\n",
    "```\n",
    "git clone https://github.com/taurus-org/taurus.git\n",
    "cd taurus\n",
    "python setup.py install\n",
    "```"
   ]
  },
  {
   "cell_type": "markdown",
   "metadata": {
    "slideshow": {
     "slide_type": "subslide"
    }
   },
   "source": [
    "# [Taurus dependencies](http://www.taurus-scada.org/users/getting_started.html#dependencies)\n",
    "\n",
    "* python 2.7\n",
    "* lxml\n",
    "* numpy >=1.1\n",
    "* pint\n",
    "* taurus-epics\n",
    "    * pyepics\n",
    "* taurus-h5file\n",
    "    * h5file\n",
    "* taurus-tango:\n",
    "    * PyTango\n",
    "* taurus-qt\n",
    "    * ply\n",
    "    * guiqwt\n",
    "    * qt4\n",
    "    * qwt5-qt4\n",
    "* taurus-qt-editor\n",
    "    * spyderlib >=3\n",
    "* Others:\n",
    "    * pymca"
   ]
  },
  {
   "cell_type": "markdown",
   "metadata": {
    "slideshow": {
     "slide_type": "subslide"
    }
   },
   "source": [
    "# How to install sardana suite\n",
    "## [Sardana](http://www.sardana-controls.org/users/getting_started/installing.html#installing)\n",
    "\n",
    "* [Debian Packages](https://packages.debian.org/search?keywords=python-sardana)\n",
    "```\n",
    "apt-get install python-sardana\n",
    "```\n",
    "* [PyPy and pip](https://pypi.python.org/pypi/sardana/2.8.3)\n",
    "```\n",
    "pip3 install sardana\n",
    "```\n",
    "* From [GitHub](https://github.com/sardana-org)\n",
    "```\n",
    "git clone https://github.com/sardana-org/sardana.git\n",
    "cd sardana\n",
    "python3 setup.py install\n",
    "```"
   ]
  },
  {
   "cell_type": "markdown",
   "metadata": {
    "slideshow": {
     "slide_type": "subslide"
    }
   },
   "source": [
    "# [Sardana dependencies](http://www.sardana-controls.org/users/getting_started/installing.html#dependencies)\n",
    "\n",
    "* python 3 (last stable release still on python 2.6)\n",
    "* lxml\n",
    "* PyTango >= 9.2.5 (last stable release >= 7.2.6)\n",
    "    * itango\n",
    "* Taurus >= 4.5.4 (last stable release >= 3.6)\n",
    "* Others:\n",
    "    * hkl\n",
    "    * h5py"
   ]
  },
  {
   "cell_type": "markdown",
   "metadata": {
    "slideshow": {
     "slide_type": "slide"
    }
   },
   "source": [
    "# Taurus docker image: [taurus-test](https://hub.docker.com/r/cpascual/taurus-test/)\n",
    "\n",
    "* Debian images for\n",
    "    ```\n",
    "    docker pull cpascual/taurus-test\n",
    "    ```\n",
    "\n",
    "* Docker taurus-test provides:  \n",
    "    * Taurus dependencies and recommended packages (PyTango, PyQt, Qwt, EPICS...)\n",
    "    * A TangoDB, a TangoTest DS configured and running and EPICS IOC\n",
    "\n"
   ]
  },
  {
   "cell_type": "markdown",
   "metadata": {
    "slideshow": {
     "slide_type": "subslide"
    }
   },
   "source": [
    "# Sardana docker image: [sardana-test](https://hub.docker.com/r/reszelaz/sardana-test/)\n",
    "\n",
    "* Debian image:\n",
    "    ```\n",
    "    docker pull reszelaz/sardana-test\n",
    "    ```\n",
    "\n",
    "* Docker sardana-test provides:  \n",
    "    * Sardana dependencies and recommended packages (Taurus, PyTango, PyQt, Qwt...)\n",
    "    * A TangoDB configured and running\n",
    "    * A Pool and MacroServer populated with simulated environment"
   ]
  },
  {
   "cell_type": "markdown",
   "metadata": {
    "slideshow": {
     "slide_type": "slide"
    }
   },
   "source": [
    "# Create the workshop enviroment"
   ]
  },
  {
   "cell_type": "markdown",
   "metadata": {
    "slideshow": {
     "slide_type": "subslide"
    }
   },
   "source": [
    "# Install Sardana suite\n",
    "\n",
    "* Taurus installation\n",
    "```\n",
    "pip3 install --no-deps git+https://github.com/taurus-org/taurus.git#icalepcs2019\n",
    "```\n",
    "* Sardana installation\n",
    "```\n",
    "pip3 install --no-deps git+https://github.com/sardana-org/sardana.git#icalepcs2019\n",
    "```"
   ]
  },
  {
   "cell_type": "markdown",
   "metadata": {
    "slideshow": {
     "slide_type": "subslide"
    }
   },
   "source": [
    "## Run and populate Sardana\n",
    "  \n",
    "* The goal:\n",
    "\n",
    "![sardana](res/sardana.png)\n",
    "\n"
   ]
  },
  {
   "cell_type": "markdown",
   "metadata": {
    "slideshow": {
     "slide_type": "subslide"
    }
   },
   "source": [
    "* Instantiate the **Sardana Tango Device Server**:\n",
    "\n",
    "```\n",
    "Sardana demo1 --log-level=debug\n",
    "```\n"
   ]
  },
  {
   "cell_type": "markdown",
   "metadata": {
    "slideshow": {
     "slide_type": "subslide"
    }
   },
   "source": [
    "![sardana_empty](res/sardana_empty.png)"
   ]
  },
  {
   "cell_type": "markdown",
   "metadata": {
    "slideshow": {
     "slide_type": "subslide"
    }
   },
   "source": [
    "### Spock\n",
    "\n",
    "* CLI based on IPython\n",
    "* Single point of control - allows to execute macros and control elements\n",
    "* Allows to work with multiple profiles i.e. connecting to different doors\n",
    "\n",
    "### Run spock:\n",
    "\n",
    "```\n",
    "spock\n",
    "```\n",
    "\n",
    "### Populate Sardana from Spock:\n",
    "\n",
    "```\n",
    "sar_demo?\n",
    "sar_demo\n",
    "```"
   ]
  },
  {
   "cell_type": "markdown",
   "metadata": {
    "slideshow": {
     "slide_type": "subslide"
    }
   },
   "source": [
    "## [Macros and other magic commands]\n",
    "\n",
    "* Sardana macro [catalog](http://www.sardana-controls.org/users/standard_macro_catalog.html)\n",
    "* ascan example:\n",
    "\n",
    "```\n",
    "ascan?\n",
    "ascan mot01 0 10 10 0.1\n",
    "```\n",
    "\n",
    "\n"
   ]
  }
 ],
 "metadata": {
  "celltoolbar": "Slideshow",
  "kernelspec": {
   "display_name": "Python 3",
   "language": "python",
   "name": "python3"
  },
  "language_info": {
   "codemirror_mode": {
    "name": "ipython",
    "version": 3
   },
   "file_extension": ".py",
   "mimetype": "text/x-python",
   "name": "python",
   "nbconvert_exporter": "python",
   "pygments_lexer": "ipython3",
   "version": "3.7.3"
  }
 },
 "nbformat": 4,
 "nbformat_minor": 1
}
