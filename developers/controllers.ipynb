{
 "cells": [
  {
   "cell_type": "markdown",
   "metadata": {
    "slideshow": {
     "slide_type": "slide"
    }
   },
   "source": [
    "\n",
    "# Workshop about controllers\n",
    "<br>\n",
    "<br>\n",
    "<img alt=\"Creative Commons License\" style=\"border-width:0\" src=\"https://i.creativecommons.org/l/by/4.0/88x31.png\" />\n",
    "Sardana-Training by ALBA Synchrotron is licensed under the Creative Commons Attribution 4.0 International License.  \n",
    "To view a copy of this license, visit http://creativecommons.org/licenses/by/4.0/."
   ]
  },
  {
   "cell_type": "markdown",
   "metadata": {
    "slideshow": {
     "slide_type": "slide"
    }
   },
   "source": [
    "## Contents\n",
    "* Controller\n",
    "* Writing controller - general\n",
    "* Writing motor controller - XYZ Stage\n",
    "* Writing pseudo motor controller - Mirror Table\n",
    "* Writing counter/timer controller - Network Trafic Counter\n",
    "* Deployment and packaging\n",
    "* Miscellaneous topics"
   ]
  },
  {
   "cell_type": "markdown",
   "metadata": {
    "slideshow": {
     "slide_type": "slide"
    }
   },
   "source": [
    "## Controller\n",
    "* [Controller overview](http://www.sardana-controls.org/devel/overview/overview_controller.html#sardana-controller-overview)\n",
    "* [Writing controllers](http://www.sardana-controls.org/devel/howto_controllers/index.html)\n",
    "* [Controller API reference](http://www.sardana-controls.org/devel/api/api_controller.html#sardana-controller-api)"
   ]
  },
  {
   "cell_type": "markdown",
   "metadata": {
    "slideshow": {
     "slide_type": "slide"
    }
   },
   "source": [
    "### Controller overview\n",
    "\n",
    "* Maps the communication between a pool element e.g. motor and the underlying hardware (example: a motor controller crate)\n",
    "* Element axis refers to the ID of a specific hardware object (like a motor) with respect to its controller\n",
    "* \n",
    "The controller object is also exposed as a Tango device."
   ]
  },
  {
   "cell_type": "markdown",
   "metadata": {
    "slideshow": {
     "slide_type": "slide"
    }
   },
   "source": [
    "### Writing controllers\n",
    "* Before writing a new controller check in the [third-party repository](https://sourceforge.net/p/sardana/controllers.git/ci/master/tree/) if someone already wrote a similar one\n",
    "* If not, it does not harm to ask on one of the communication channels e.g. mailing list, github issue, etc."
   ]
  },
  {
   "cell_type": "markdown",
   "metadata": {
    "slideshow": {
     "slide_type": "slide"
    }
   },
   "source": [
    "### Writing controllers - general\n",
    "* Constructor\n",
    " * Called on: controllers creation, pool startup and controller's code reload\n",
    " * Accepts arguments: instance (name of the controller instance) and properties (dictionary with the controller properties)\n",
    " * If an exception is raised when constructing the controller, the controller automatically gets into the Fault state and its status describes the exception that occured"
   ]
  },
  {
   "cell_type": "markdown",
   "metadata": {
    "slideshow": {
     "slide_type": "subslide"
    }
   },
   "source": [
    "### Writing controllers - general\n",
    "* AddDevice and DeleteDevice\n",
    " * Called on: element creation/deletion, pool start/stop and controller's code reload"
   ]
  },
  {
   "cell_type": "markdown",
   "metadata": {
    "slideshow": {
     "slide_type": "subslide"
    }
   },
   "source": [
    "### Writing controllers - general\n",
    "* Get axis state (State sequence)\n",
    " * Applies only to the to physical elements\n",
    " * Called on: state request, during operations e.g. motion, acquisition\n",
    " * Returns: state and optionally status, if no status is returned, it will be composed by Sardana from the state (in case of motor also returns limit switches)\n",
    " * If an exception is raised when reading the state, the axis automatically gets into the Fault state and the status contains the exception details."
   ]
  },
  {
   "cell_type": "markdown",
   "metadata": {
    "slideshow": {
     "slide_type": "subslide"
    }
   },
   "source": [
    "### Writing controllers - general\n",
    "* Axis extra attributes - attributes that are not included in the standard inteface e.g. close loop for a motor\n",
    "* Controller extra attributes - attributes that are not included in the standard interface e.g. \n",
    "* Controller properties - similar to attributes but are foreseen for more static characteristics e.g. communication host and port\n",
    "* Controller may define a generic method `SentToCtrl` which accepts a string argument and returns a string. It can be used, for example, to send to the hardware controller these commands that do not fit into the standard interace."
   ]
  },
  {
   "cell_type": "markdown",
   "metadata": {
    "slideshow": {
     "slide_type": "subslide"
    }
   },
   "source": [
    "### Writing controllers - general\n",
    "* Controller has its own logger - `_log` member and its level can be controller with an attribute of the controller\n",
    "* When developing controllers, it is very useful to call `ReloadControllerClass` and `ReloadControllerLib` commands of the pool - see [#53](https://github.com/sardana-org/sardana/issues/53)"
   ]
  },
  {
   "cell_type": "markdown",
   "metadata": {
    "slideshow": {
     "slide_type": "slide"
    }
   },
   "source": [
    "### Synchronized start\n",
    "```\n",
    "/FOR/ Each controller(s) implied in the motion\n",
    "     - Call PreStartAll()\n",
    "/END FOR/\n",
    "/FOR/ Each motor(s) implied in the motion\n",
    "     - ret = PreStartOne(motor to move, new position)\n",
    "     - /IF/ ret is not true\n",
    "        /RAISE/ Cannot start. Motor PreStartOne returns False\n",
    "     - /END IF/\n",
    "     - Call StartOne(motor to move, new position)\n",
    "/END FOR/\n",
    "/FOR/ Each controller(s) implied in the motion\n",
    "     - Call StartAll()\n",
    "/END FOR/\n",
    "```"
   ]
  },
  {
   "cell_type": "markdown",
   "metadata": {
    "slideshow": {
     "slide_type": "subslide"
    }
   },
   "source": [
    "### Synchronized start\n",
    "\n",
    "[Single motor start sequence diagram](http://www.sardana-controls.org/devel/api/api_motor.html#motion)"
   ]
  },
  {
   "cell_type": "markdown",
   "metadata": {
    "slideshow": {
     "slide_type": "slide"
    }
   },
   "source": [
    "### Optimized hardware access while reading multiple axes (also state)\n",
    "\n",
    "```\n",
    "/FOR/ Each controller(s) implied in the reading\n",
    "     - Call PreReadAll()\n",
    "/END FOR/\n",
    "/FOR/ Each motor(s) implied in the reading\n",
    "     - PreReadOne(motor to read)\n",
    "/END FOR/\n",
    "/FOR/ Each controller(s) implied in the reading\n",
    "     - Call ReadAll()\n",
    "/END FOR/\n",
    "/FOR/ Each motor(s) implied in the reading\n",
    "     - Call ReadOne(motor to read)\n",
    "/END FOR/\n",
    "```"
   ]
  },
  {
   "cell_type": "markdown",
   "metadata": {
    "slideshow": {
     "slide_type": "subslide"
    }
   },
   "source": [
    "### Optimized hardware access while reading multiple axes (also state)\n",
    "\n",
    "[Single motor read sequence diagram](http://www.sardana-controls.org/devel/api/api_motor.html#motor-position)"
   ]
  },
  {
   "cell_type": "markdown",
   "metadata": {
    "slideshow": {
     "slide_type": "slide"
    }
   },
   "source": [
    "### [How to write motor controller](http://www.sardana-controls.org/devel/howto_controllers/howto_motorcontroller.html)\n",
    "\n",
    "* Get motor state - `StateOne`:\n",
    " * return state and optionally status and the status of the limit switches (home, upper, lower)\n",
    " * should become Alarm if any of the overtravel limit switches becomes active - see discussion in [#507](https://github.com/sardana-org/sardana/issues/507)\n",
    " * is called multiple times during the motion operation"
   ]
  },
  {
   "cell_type": "markdown",
   "metadata": {
    "slideshow": {
     "slide_type": "subslide"
    }
   },
   "source": [
    "### [How to write motor controller](http://www.sardana-controls.org/devel/howto_controllers/howto_motorcontroller.html)\n",
    "\n",
    "* Get motor position - `ReadOne`\n",
    " * return dial position (dial position = motor position / steps per unit)\n",
    " * is called multiple times during the motion operation\n"
   ]
  },
  {
   "cell_type": "markdown",
   "metadata": {
    "slideshow": {
     "slide_type": "subslide"
    }
   },
   "source": [
    "### [How to write motor controller](http://www.sardana-controls.org/devel/howto_controllers/howto_motorcontroller.html)\n",
    "* Move a motor - `StartOne`:\n",
    " * Accepts argument: dial position (motor position = dial position * steps per unit)"
   ]
  },
  {
   "cell_type": "markdown",
   "metadata": {
    "slideshow": {
     "slide_type": "subslide"
    }
   },
   "source": [
    "### [How to write motor controller](http://www.sardana-controls.org/devel/howto_controllers/howto_motorcontroller.html)\n",
    "\n",
    "* Stop a motor - `StopOne`:\n",
    " * Gracefully stop a motor (deceleration and base rate should be respected)\n",
    " * Stopping multiple axis with one access to the hardware, if possible, should be allowed - see [#157](https://github.com/sardana-org/sardana/issues/157)\n",
    "* Abort a motor - `AbortOne`:\n",
    " * Stop motor without respecting the deceleration time\n",
    " * Aborting multiple axis with one access to the hardware, if possible, should be allowed - see [#157](https://github.com/sardana-org/sardana/issues/157)"
   ]
  },
  {
   "cell_type": "markdown",
   "metadata": {
    "slideshow": {
     "slide_type": "subslide"
    }
   },
   "source": [
    "### [How to write motor controller](http://www.sardana-controls.org/devel/howto_controllers/howto_motorcontroller.html)\n",
    "* Standard axis attributes - `SetAxisPar` and `GetAxisPar`\n",
    "  * acceleration, deceleration, velocity, base rate and steps per unit\n",
    "  * some combinations of parameters may not be coherent what to do then - see [#30](https://github.com/sardana-org/sardana/issues/30) and [#420](https://github.com/sardana-org/sardana/pull/420)"
   ]
  },
  {
   "cell_type": "markdown",
   "metadata": {
    "slideshow": {
     "slide_type": "subslide"
    }
   },
   "source": [
    "### [How to write motor controller](http://www.sardana-controls.org/devel/howto_controllers/howto_motorcontroller.html)\n",
    "\n",
    "* Define motor position - `DefinePosition`:\n",
    " * Loads the new motor position to the hardware\n",
    "* Timestamp read position - return `SardanaValue` object containing the position and the timestamp in the `ReadOne`\n",
    "* Examples: IcePAP, Pmac, Tango attribute"
   ]
  },
  {
   "cell_type": "markdown",
   "metadata": {
    "slideshow": {
     "slide_type": "subslide"
    }
   },
   "source": [
    "### Example - XYZ Stage"
   ]
  },
  {
   "cell_type": "markdown",
   "metadata": {
    "slideshow": {
     "slide_type": "slide"
    }
   },
   "source": [
    "### [How to write pseudo motor controller](http://www.sardana-controls.org/devel/howto_controllers/howto_pseudomotorcontroller.html)\n",
    "\n",
    "* Define class members `pseudo_motor_roles` and `motor_roles`\n",
    " * Some use cases (advanced), for example HKL, may require dynamic roles - see [#86](https://github.com/sardana-org/sardana/issues/86)\n",
    " * If controller comprises only one pseduo motor the `pseudo_motor_roles` can be omitted\n",
    "* Calculate pseudo motor position - `CalcPseudo`\n",
    " * Accepts: axis, physical motor positions and the current pseudo motor positions as arguments\n",
    " * Returns calculated pseudo motor position\n",
    " * The current pseudo motor positions that arrives to `CalcPseudo` are set values and not read values TODO"
   ]
  },
  {
   "cell_type": "markdown",
   "metadata": {
    "slideshow": {
     "slide_type": "subslide"
    }
   },
   "source": [
    "### [How to write pseudo motor controller](http://www.sardana-controls.org/devel/howto_controllers/howto_pseudomotorcontroller.html)\n",
    "* Calculate physical motor position - `CalcPhysical`\n",
    " * Accepts: axis numer, pseudo motor positions and the current physical motor positions as arguments\n",
    " * Returns calculated physical motor position\n",
    "* If great performance gain can be achived it is possible to use `CalcAllPseudo` and `CalcAllPhysical` methods\n",
    " * The default implementation iterates over axes and call the `CalcPseudo` and `CalcPhysical` methods multiple times\n",
    "* Examples: Mirrors, ID, Tables, Energy, Twin motors"
   ]
  },
  {
   "cell_type": "markdown",
   "metadata": {
    "slideshow": {
     "slide_type": "subslide"
    }
   },
   "source": [
    "### Example: Mirror Table"
   ]
  },
  {
   "cell_type": "markdown",
   "metadata": {
    "slideshow": {
     "slide_type": "fragment"
    }
   },
   "source": [
    "`defctrl MirrorVerticalPseudoMotorController mvert mzc=mzc mzl=mzl mzr=mzr z=mz pitch=mpitch roll=mroll dim_x 261 dim_y 1262.5`"
   ]
  },
  {
   "cell_type": "markdown",
   "metadata": {
    "slideshow": {
     "slide_type": "slide"
    }
   },
   "source": [
    "### [How to write counter/timer controller](http://www.sardana-controls.org/devel/howto_controllers/howto_countertimercontroller.html)\n",
    "* Load a counter - `LoadOne`\n",
    " * receives either integration time or monitor counts (negative number) as arguments \\*\n",
    " * is called only on the controller's timer or monitor\n",
    "* Read a counter value - `ReadOne` \\*\n",
    " * returns a single counter value\n",
    " * is called multiple times during the acquisition operation\n",
    "* Start a counter - `StartOne`\n",
    " * receives intergation timer or monitor count as argument\n",
    "* Get state of a counter - `StateOne`\n",
    " * return state and optionally status of a counter\n",
    " * is called multiple times during the acquisition operation\n",
    "* Stop and abort a counter - similar to stopping/aborting a motor\n",
    " \n",
    "\\* An advanced API is available for continuous acquisitions e.g. continuous scans"
   ]
  },
  {
   "cell_type": "markdown",
   "metadata": {
    "slideshow": {
     "slide_type": "slide"
    }
   },
   "source": [
    "### [How to write counter/timer controller](http://www.sardana-controls.org/devel/howto_controllers/howto_countertimercontroller.html)\n",
    "* Select timer/monitor - `timer` and `monitor` controller parameters set with `SetCtrlPar` (timer/monitor axis number)\n",
    "* Select acquisition mode - `acquisition_mode` controller parameter set with `SetCtrlPar` (`AcqMode` enumeration)\n",
    "* Timestamp read counter value - return `SardanaValue` object containing the counter value and the timestamp in the `ReadOne`"
   ]
  },
  {
   "cell_type": "markdown",
   "metadata": {
    "slideshow": {
     "slide_type": "slide"
    }
   },
   "source": [
    "### [How to write counter/timer controller](http://www.sardana-controls.org/devel/howto_controllers/howto_countertimercontroller.html) - continuous acquisition\n",
    "\n",
    "* Select synchronization mode - `synchronization` controller parameters set with `SetCtrlPar` (`AcqSynch` enumeration)\n",
    "* Load a counter - `LoadOne`\n",
    " * receives number of repetitions as argument (if software synchronizer is used the repetitions is set to 1)\n",
    "* Read a counter value - `ReadOne`\n",
    " * progressively returns counter values in bunches while the acquisition is in progress\n",
    " * skipping the *online readout* may be achieved on the controller by simply conditioning the hardware readout with the state different than Moving\n",
    " \n",
    "All the controller parameters are configured on the measurement group configuration so they may vary between measurement groups. Applying of these parameters is done at the beginning of the acquisition.\n",
    " \n",
    "* Examples: AlbaEM, Adlink2005, NI6602"
   ]
  },
  {
   "cell_type": "markdown",
   "metadata": {
    "slideshow": {
     "slide_type": "subslide"
    }
   },
   "source": [
    "### Example: Network Trafic Counter"
   ]
  },
  {
   "cell_type": "markdown",
   "metadata": {
    "slideshow": {
     "slide_type": "slide"
    }
   },
   "source": [
    "### Controllers deployment at ALBA\n",
    "\n",
    "The controllers are deployed at three levels:\n",
    "\n",
    "* User - created by the scientists (developed directly in the NFS mounted directory, no revision control)\n",
    "* Control engineer - created by the control engineers (repository check outs)\n",
    "* Production - installed via packages"
   ]
  },
  {
   "cell_type": "markdown",
   "metadata": {
    "slideshow": {
     "slide_type": "subslide"
    }
   },
   "source": [
    "### Controllers deployment at ALBA\n",
    "\n",
    "\n",
    "#### PoolPath property now (OpenSUSE + bliss)\n",
    "``` \n",
    "/beamlines/bl22/controls/user_ctrls  # User\n",
    "/beamlines/bl22/controls/devel/poolcontrollers # Control engineer\n",
    "/homelocal/sicilia/lib/python/site-packages/poolcontrollers # Package\n",
    "/homelocal/sicilia/lib/python/site-packages/poolcontrollers/IcePAPCtrl\n",
    "/homelocal/sicilia/lib/python/site-packages/poolcontrollers/IBACtrl\n",
    "```"
   ]
  },
  {
   "cell_type": "markdown",
   "metadata": {
    "slideshow": {
     "slide_type": "subslide"
    }
   },
   "source": [
    "### Controllers deployment at ALBA\n",
    "\n",
    "\n",
    "#### PoolPath property future (debian)\n",
    "```\n",
    "/beamlines/bl22/controls/user_ctrls # User\n",
    "/beamlines/bl22/controls/devel/poolcontrollers # Control engineer\n",
    "/usr/lib/sardana/controllers # Package\n",
    "/usr/lib/sardana/controllers/IcePAPCtrl\n",
    "/usr/lib/sardana/controllers/IBACtrl\n",
    "```"
   ]
  },
  {
   "cell_type": "markdown",
   "metadata": {
    "slideshow": {
     "slide_type": "slide"
    }
   },
   "source": [
    "## Advanced topics"
   ]
  },
  {
   "cell_type": "markdown",
   "metadata": {
    "slideshow": {
     "slide_type": "slide"
    }
   },
   "source": [
    "### Use of taurus vs. use of PyTango?\n",
    "\n",
    "Taurus pros:\n",
    "\n",
    "* More friendly API\n",
    "* A lot of work is already done e.g. configuration events\n",
    "* Take care with the pythonic write"
   ]
  },
  {
   "cell_type": "markdown",
   "metadata": {
    "slideshow": {
     "slide_type": "subslide"
    }
   },
   "source": [
    "### Use of taurus vs. use of PyTango?\n",
    "\n",
    "PyTango pros:\n",
    "* Lightweigh\n",
    "* Access to full Tango API e.g. Group, asychronous read, etc.\n",
    "* Allow pythonic write"
   ]
  },
  {
   "cell_type": "code",
   "execution_count": 4,
   "metadata": {
    "collapsed": false,
    "slideshow": {
     "slide_type": "subslide"
    }
   },
   "outputs": [
    {
     "name": "stdout",
     "output_type": "stream",
     "text": [
      "taurus: 7.0 tango: 7.0\n",
      "taurus: -2.0 tango: -2.0\n",
      "taurus: -8.0 tango: -8.0\n"
     ]
    }
   ],
   "source": [
    "import time, taurus, PyTango\n",
    "mot_taurus = taurus.Device(\"mot01\")\n",
    "mot_tango = PyTango.DeviceProxy(\"mot01\")\n",
    "print \"taurus:\", mot_taurus.position, \"tango:\", mot_tango.position\n",
    "mot_taurus[\"position\"] = -2  # this does not move the motor!!!\n",
    "time.sleep(3)\n",
    "print \"taurus:\", mot_taurus.position, \"tango:\", mot_tango.position\n",
    "mot_tango.position = -8\n",
    "time.sleep(3)\n",
    "print \"taurus:\", mot_taurus.position, \"tango:\", mot_tango.position"
   ]
  },
  {
   "cell_type": "markdown",
   "metadata": {
    "slideshow": {
     "slide_type": "slide"
    }
   },
   "source": [
    "### Using external modules\n",
    "\n",
    "* Controllers may use external modules\n",
    "* They must accessible via either:\n",
    " * `PythonPath` property of the Pool device\n",
    " * `PYTHONPATH` environment variable\n",
    "* The modules accessible via `PythonPath` property have precedence over the ones available in Python."
   ]
  },
  {
   "cell_type": "markdown",
   "metadata": {
    "slideshow": {
     "slide_type": "slide"
    }
   },
   "source": [
    "### Class inheritance\n",
    "\n",
    "* The controller inheritance is possible\n",
    " * From another controller class\n",
    " * From an arbitrary class\n",
    "* Base classes must be importable - see \"Using external modules\" slide\n",
    "* If both, the base class and the controller class are located at the same path the controller manager can fail due to the uncertain loading order"
   ]
  },
  {
   "cell_type": "markdown",
   "metadata": {
    "slideshow": {
     "slide_type": "slide"
    }
   },
   "source": [
    "### Class inheritance - examples:\n",
    "* [TurboPmacController](https://sourceforge.net/p/sardana/controllers.git/ci/master/tree/python/motor/PmacCtrl/TurboPmacCtrl.py)(Controller)\n",
    " * [LtpTurboPmacController](https://sourceforge.net/p/sardana/controllers.git/ci/master/tree/python/motor/PmacCtrl/AlbaLtpTurboPmacCtrl.py)(Controller)\n",
    "\n",
    "* [Ni660XCtrl](https://sourceforge.net/p/sardana/controllers.git/ci/master/tree/python/countertimer/Ni660XCtrl/Ni660XCTCtrl.py)(Base class) \n",
    " * [Ni660XPositionCTCtrl](https://sourceforge.net/p/sardana/controllers.git/ci/master/tree/python/countertimer/Ni660XCtrl/Ni660XPositionCTCtrl.py)(Controller)\n",
    " * [Ni660XCounterCTCtrl](https://sourceforge.net/p/sardana/controllers.git/ci/master/tree/python/countertimer/Ni660XCtrl/Ni660XCounterCTCtrl.py)(Controller)\n",
    " * [Ni660XPulseWidthCTCtrl.py ](https://sourceforge.net/p/sardana/controllers.git/ci/master/tree/python/countertimer/Ni660XCtrl/Ni660XPulseWidthCTCtrl.py)(Controller)"
   ]
  }
 ],
 "metadata": {
  "celltoolbar": "Slideshow",
  "kernelspec": {
   "display_name": "Python 2",
   "language": "python",
   "name": "python2"
  },
  "language_info": {
   "codemirror_mode": {
    "name": "ipython",
    "version": 2
   },
   "file_extension": ".py",
   "mimetype": "text/x-python",
   "name": "python",
   "nbconvert_exporter": "python",
   "pygments_lexer": "ipython2",
   "version": "2.7.13"
  }
 },
 "nbformat": 4,
 "nbformat_minor": 2
}
