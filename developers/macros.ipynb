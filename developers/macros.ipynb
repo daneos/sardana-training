{
 "cells": [
  {
   "cell_type": "markdown",
   "metadata": {
    "slideshow": {
     "slide_type": "slide"
    }
   },
   "source": [
    "# MACROS\n",
    "<br>\n",
    "<br>\n",
    "<img alt=\"Creative Commons License\" style=\"border-width:0\" src=\"https://i.creativecommons.org/l/by/4.0/88x31.png\" />\n",
    "Sardana-Training by ALBA Synchrotron is licensed under the Creative Commons Attribution 4.0 International License.  \n",
    "To view a copy of this license, visit http://creativecommons.org/licenses/by/4.0/."
   ]
  },
  {
   "cell_type": "markdown",
   "metadata": {
    "slideshow": {
     "slide_type": "subslide"
    }
   },
   "source": [
    "## Contents\n",
    "    \n",
    "* Overview selected macro features in the following format:\n",
    " * feature description\n",
    " * where is it implemented in the code\n",
    " * simple example\n",
    " * real use case"
   ]
  },
  {
   "cell_type": "markdown",
   "metadata": {
    "slideshow": {
     "slide_type": "subslide"
    }
   },
   "source": [
    "## Contents\n",
    "\n",
    "The selectd features are:\n",
    " * Asynchronous Motion and Acquisition\n",
    " * Repeat Parameters\n",
    " * GSF: Generic Scan Framework\n",
    " * Execute submacro and get data\n",
    " * Hooks\n",
    " * Custom Recorders"
   ]
  },
  {
   "cell_type": "markdown",
   "metadata": {
    "slideshow": {
     "slide_type": "slide"
    }
   },
   "source": [
    "## MACROS\n",
    "\n",
    "# Asynchronous Motion and Acquisition"
   ]
  },
  {
   "cell_type": "markdown",
   "metadata": {
    "slideshow": {
     "slide_type": "subslide"
    }
   },
   "source": [
    "### Macros: Asynchronous Motion and Acquisition\n",
    "\n",
    "### Feature Description\n",
    "\n",
    "* From a macro, or any other code using the Sardana-Taurus extension allow:\n",
    " * To launch a motion/acquisition\n",
    " * To perform an action while the motion/acquisition is still happening (asynchronous)\n",
    " * To perform some other action once the motion/acquisition has finished (synchronous with the end of the motion/acquisition)"
   ]
  },
  {
   "cell_type": "markdown",
   "metadata": {
    "slideshow": {
     "slide_type": "subslide"
    }
   },
   "source": [
    "### Macros: Asynchronous Motion and Acquisition\n",
    "\n",
    "### Where in the code?\n",
    "\n",
    "* Synchronization with the end of a motion or acquisition has finished. Waiting till the motion or acqusition has finished: <br>\n",
    "[`sardana/taurus/core/tango/sardana/pool.py`](https://github.com/sardana-org/sardana/blob/develop/src/sardana/taurus/core/tango/sardana/pool.py) <br>\n",
    "(class **PoolElement**, method **waitMove**)"
   ]
  },
  {
   "cell_type": "markdown",
   "metadata": {
    "slideshow": {
     "slide_type": "subslide"
    }
   },
   "source": [
    "### Macros: Asynchronous Motion and Acquisition\n",
    "\n",
    "### Simple Example\n",
    "\n",
    "An example of a motion waiting for the end of the motion in order to synchronize other actions with the end of the acquisition can be found in the macro **move_asynch** of the following module: [`sardana/macroserver/macros/examples/motion.py`](https://github.com/sardana-org/sardana/blob/develop/src/sardana/macroserver/macros/examples/motion.py)\n",
    "\n",
    "**Description of the macro move_asynch**\n",
    "* The initial position is displayed\n",
    "* The motion starts\n",
    "* A reading of the State of the motion is done asynchronously\n",
    "* A wait is present in order to wait to the end of the motion\n",
    "* Synchronously with the end of the motion a readPosition is done\n",
    "\n",
    "\n"
   ]
  },
  {
   "cell_type": "markdown",
   "metadata": {
    "slideshow": {
     "slide_type": "subslide"
    }
   },
   "source": [
    "### Macros: Asynchronous Motion and Acquisition\n",
    "\n",
    "### Real Application\n",
    "\n",
    "* **macro mar_ct**: [`ALBA_BL04_MSPD/hpexp.py`](https://sourceforge.net/p/sardana/macros.git/ci/master/tree/ALBA_BL04_MSPD/hpexp.py)\n",
    "* BL04 @ ALBA\n",
    "\n",
    "\n",
    "* Description of the synchronization interesting macro steps:\n",
    " * The acquisition begins\n",
    " * The Detector is monitored\n",
    " * A wait for the measurement group to finish the acquisition is used\n",
    " * Synchronized with the end of the acquisition, the header is populated, and the Image is saved"
   ]
  },
  {
   "cell_type": "markdown",
   "metadata": {
    "slideshow": {
     "slide_type": "slide"
    }
   },
   "source": [
    "## MACROS\n",
    "\n",
    "\n",
    "# Repeat Parameters"
   ]
  },
  {
   "cell_type": "markdown",
   "metadata": {
    "collapsed": true,
    "slideshow": {
     "slide_type": "subslide"
    }
   },
   "source": [
    "### Macros: Repeat Parameters\n",
    "\n",
    "### Feature Description\n",
    "\n",
    "* Features of parameter repetion in macros:\n",
    " * Multiple repetitions of a single parameter are allowed\n",
    " * Multiple repetitions of groups of parameters are allowed\n",
    " * Multiple repetitions of nested groups of parameters are allowed\n",
    " * Parameters in all positions can be repeated\n",
    " * Spock: new interface for parameter repetition using square brackets\n",
    " * Spock: default value used if no element present inside the square brakets"
   ]
  },
  {
   "cell_type": "markdown",
   "metadata": {
    "collapsed": true,
    "slideshow": {
     "slide_type": "subslide"
    }
   },
   "source": [
    "### Macros: Repeat Parameters\n",
    "\n",
    "### Where in the code?\n",
    "\n",
    "\n",
    "* Spock parsing of parameters:\n",
    "\n",
    "[`sardana/spock/parser.py`](https://github.com/sardana-org/sardana/blob/develop/src/sardana/spock/parser.py) (class **ParamParser**)\n",
    "\n",
    "[`sardana/spock/spockms.py`](https://github.com/sardana-org/sardana/blob/develop/src/sardana/spock/spockms.py) (function **split_macro_parameters**)\n",
    "\n",
    "\n",
    "* RepeatParamNode and RepeatNode:\n",
    "\n",
    "[`sardana/taurus/core/tango/sardana/macro.py`](https://github.com/sardana-org/sardana/blob/develop/src/sardana/taurus/core/tango/sardana/macro.py) (class **RepeatParamNode**)\n",
    "\n",
    "[`sardana/taurus/core/tango/sardana/macroserver.py`](https://github.com/sardana-org/sardana/blob/develop/src/sardana/taurus/core/tango/sardana/macroserver.py) (method **validateRepeatParam**)\n",
    "\n",
    "\n",
    "* Macroexecutor: Duplicate action\n",
    "\n",
    "[`sardana/taurus/qt/qtgui/extra_macroexecutor/macroparameterseditor/macroparameterseditor.py`](https://github.com/sardana-org/sardana/blob/develop/src/sardana/taurus/qt/qtgui/extra_macroexecutor/macroparameterseditor/macroparameterseditor.py) (QAction **duplicateAction**)"
   ]
  },
  {
   "cell_type": "markdown",
   "metadata": {
    "collapsed": true,
    "slideshow": {
     "slide_type": "subslide"
    }
   },
   "source": [
    "### Macros: Repeat Parameters\n",
    "\n",
    "### Simple Example\n",
    "\n",
    "\n",
    "Simple examples of Repeat Parameters usage can be found on the macro examples. Many examples presenting Repeat Parameters are also present in this Sardana python module.\n",
    "\n",
    "[`sardana/macroserver/macros/examples/parameters.py`](https://github.com/sardana-org/sardana/blob/develop/src/sardana/macroserver/macros/examples/parameters.py)\n",
    "\n",
    "---\n",
    "\n",
    "* Example: macro pt7 presents a **repeat parameter** containing a motor and a position for each repetition:"
   ]
  },
  {
   "cell_type": "code",
   "execution_count": 3,
   "metadata": {
    "collapsed": true,
    "slideshow": {
     "slide_type": "subslide"
    }
   },
   "outputs": [],
   "source": [
    "import mock\n",
    "Type = mock.MagicMock()\n",
    "\n",
    "from sardana.macroserver.macro import Macro\n",
    "\n",
    "class pt7(Macro):\n",
    "    \"\"\"Macro with a list of pair Motor,Float.\n",
    "    Usages from Spock, ex.:\n",
    "    pt7 [[mot1 1] [mot2 3]]\n",
    "    pt7 mot1 1 mot2 3\n",
    "    \"\"\"\n",
    "\n",
    "    param_def = [\n",
    "        ['m_p_pair', [['motor', Type.Motor, None, 'Motor to move'],\n",
    "                      ['pos',   Type.Float, None, 'Position to move to']],\n",
    "         None, 'List of motor/position pairs']\n",
    "    ]\n",
    "\n",
    "    def run(self, *args, **kwargs):\n",
    "        pass"
   ]
  },
  {
   "cell_type": "markdown",
   "metadata": {
    "collapsed": true,
    "slideshow": {
     "slide_type": "subslide"
    }
   },
   "source": [
    "### Macros: Repeat Parameters\n",
    "\n",
    "### Real Application\n",
    "\n",
    "* BL09 @ ALBA\n",
    "\n",
    "* Requirements \n",
    " * Generation of collect script for TXM Microscope \n",
    " * Many groups of parameters with few changes in numeric values\n",
    " * Collection of images for: many lenses position - many angles - many energies \n",
    "\n",
    "* Solution: \n",
    " * Macro **manytomos** launched from macroexecutor\n",
    " * Usage of nested repeat parameters\n",
    " * Macroexecutor group duplication option"
   ]
  },
  {
   "cell_type": "markdown",
   "metadata": {
    "collapsed": true,
    "slideshow": {
     "slide_type": "subslide"
    }
   },
   "source": [
    "**manytomos** macro in MacroExecutor\n",
    "\n",
    "![alt text](manytomos.jpeg \"Repeat Parameters and Duplicate Group in Macroexecutor\")\n"
   ]
  },
  {
   "cell_type": "markdown",
   "metadata": {
    "slideshow": {
     "slide_type": "slide"
    }
   },
   "source": [
    "## MACROS\n",
    "\n",
    "# GSF: Generic Scan Framework"
   ]
  },
  {
   "cell_type": "markdown",
   "metadata": {
    "collapsed": true,
    "slideshow": {
     "slide_type": "subslide"
    }
   },
   "source": [
    "### Macros: Generic Scan Framework (GSF)\n",
    "\n",
    "### Feature Description\n",
    "\n",
    "* The generic scan framework allows to generate custom made scans\n",
    "* It allow to generate arbitrary number of points, regions, etc. \n",
    "* It allows to generate scans with heterogeneous patterns in scan points and integration time\n",
    "* The rest of the scans, inherits from the this **GScan** generic scan."
   ]
  },
  {
   "cell_type": "markdown",
   "metadata": {
    "collapsed": true,
    "slideshow": {
     "slide_type": "subslide"
    }
   },
   "source": [
    "### Macros: Generic Scan Framework (GSF)\n",
    "\n",
    "### Where in the code?\n",
    "\n",
    "\n",
    " * In class **GScan** from scan.py\n",
    " [`sardana.macroserver.scan.gscan.py`](https://github.com/sardana-org/sardana/blob/develop/src/sardana/macroserver/scan/gscan.py)"
   ]
  },
  {
   "cell_type": "markdown",
   "metadata": {
    "collapsed": true,
    "slideshow": {
     "slide_type": "subslide"
    }
   },
   "source": [
    "### Macros: Generic Scan Framework (GSF)\n",
    "\n",
    "### Simple Example\n",
    "\n",
    "The following command executes a region scan in spock:\n",
    "*regscan movable integration_time start_position [[next_position  n_intervals]]*\n",
    "\n",
    "```\n",
    "%regscan dummymotor01 0.1 2 [[3 5] [10 7]]\n",
    "```\n",
    "\n",
    "* The presented scan:\n",
    " * Has an integration time of 0.1 seconds\n",
    " * It begins at position 2.\n",
    " * It has 5 intervals between position 2 and position 3\n",
    " * It has 7 intervals between position 3 and position 10\n",
    " * A total of 13 points are taken\n",
    " \n",
    " \n",
    "* Macro **regscan**\n",
    " [`sardana/macroserver/macros/examples/scans.py`](https://github.com/sardana-org/sardana/blob/develop/src/sardana/macroserver/macros/examples/scans.py) "
   ]
  },
  {
   "cell_type": "markdown",
   "metadata": {
    "collapsed": true,
    "slideshow": {
     "slide_type": "subslide"
    }
   },
   "source": [
    "### Macros: Generic Scan Framework (GSF)\n",
    "\n",
    "### Real Application\n",
    "\n",
    "* BL22 @ ALBA\n",
    "\n",
    "\n",
    "\n",
    "* **Macro constKscan:**\n",
    "This Macro performs an Energy Scan using the GSF with NON equidistant distances in each of the intervals. The objective is to get an absorption spectrum as output. The scan collects more points near to the spectrum peaks and it increases the integration time as the energy increases.\n",
    "\n",
    "\n",
    "\n",
    "* The **constKscan** code can be found here:\n",
    "[`ALBA_BL22_CLAESS/bl22scans.py`](https://sourceforge.net/p/sardana/macros.git/ci/master/tree/ALBA_BL22_CLAESS/bl22scans.py)\n"
   ]
  },
  {
   "cell_type": "markdown",
   "metadata": {
    "slideshow": {
     "slide_type": "slide"
    }
   },
   "source": [
    "## MACROS\n",
    "\n",
    "# Hooks\n"
   ]
  },
  {
   "cell_type": "markdown",
   "metadata": {
    "collapsed": true,
    "slideshow": {
     "slide_type": "subslide"
    }
   },
   "source": [
    "### Macros: Hooks\n",
    "\n",
    "### Feature Description\n",
    "\n",
    "\n",
    "* Hooks are used to insert code at specific locations within the macro\n",
    "* The following kind of hooks exists for the scans:\n",
    " * pre-scan\n",
    " * pre-move\n",
    " * post-move\n",
    " * pre-acq\n",
    " * post-acq\n",
    " * post-step\n",
    " * post-scan\n",
    "* Customized hooks can be created"
   ]
  },
  {
   "cell_type": "markdown",
   "metadata": {
    "collapsed": true,
    "slideshow": {
     "slide_type": "subslide"
    }
   },
   "source": [
    "### Macros: Hooks\n",
    "\n",
    "### Where in the code?\n",
    "\n",
    "\n",
    " * In class **Hookable** from macro.py; method: **hooks**:\n",
    "  * [`sardana.macroserver.macros.macro.py`](https://github.com/sardana-org/sardana/blob/develop/src/sardana/macroserver/macros/macro.py)\n",
    " \n",
    " \n",
    " \n",
    " \n",
    " * Hooks defined along the scans:\n",
    "  * [`sardana.macroserver.scan.gscan.py`](https://github.com/sardana-org/sardana/blob/develop/src/sardana/macroserver/scan/gscan.py)"
   ]
  },
  {
   "cell_type": "markdown",
   "metadata": {
    "collapsed": true,
    "slideshow": {
     "slide_type": "subslide"
    }
   },
   "source": [
    "### Macros: Hooks\n",
    "\n",
    "### Simple Example\n",
    "\n",
    "* The macro **hooked_scan** from the Sardana macro examples, shows how hooks can be included in different locations of the macro execution:\n",
    " * [`sardana/macroserver/macros/examples/hooks.py`](https://github.com/sardana-org/sardana/blob/develop/src/sardana/macroserver/macros/examples/hooks.py)\n",
    " \n",
    "\n",
    "* More examples can also be found in the same python module  [`sardana/macroserver/macros/examples/hooks.py`](https://github.com/sardana-org/sardana/blob/develop/src/sardana/macroserver/macros/examples/hooks.py)"
   ]
  },
  {
   "cell_type": "markdown",
   "metadata": {
    "collapsed": true,
    "slideshow": {
     "slide_type": "subslide"
    }
   },
   "source": [
    "### Macros: Hooks\n",
    "\n",
    "### Real Application\n",
    "\n",
    "* BL22 @ ALBA\n",
    "\n",
    "* Macro **qExafs** which inherits from class **BL22qExafs**. In method **run_scan**\n",
    "\n",
    "* [`ALBA_BL22_CLAESS/bl22scans.py`](https://sourceforge.net/p/sardana/macros.git/ci/master/tree/ALBA_BL22_CLAESS/bl22scans.py)\n",
    "\n",
    "* **qExafs** macro uses many different scan hooks:\n",
    " * pre_configure_hook\n",
    " * post_configure_hook\n",
    " * pre_start_hook\n",
    " * post_move_hook\n",
    " * cleanup\n",
    "\n",
    "\n",
    " \n"
   ]
  },
  {
   "cell_type": "markdown",
   "metadata": {
    "slideshow": {
     "slide_type": "slide"
    }
   },
   "source": [
    "## MACROS\n",
    "\n",
    "# Execute submacro and get data"
   ]
  },
  {
   "cell_type": "markdown",
   "metadata": {
    "collapsed": true,
    "slideshow": {
     "slide_type": "subslide"
    }
   },
   "source": [
    "### Macros: Execute submacro and get data\n",
    "\n",
    "### Feature Description\n",
    "\n",
    "* Requirement:\n",
    " * Obtain the data from a macro\n",
    " * Use this data in another macro\n",
    "\n",
    "* How to satisfy the requirement:\n",
    " * Macro can expose its data with the `data` property\n",
    " * Clients can obtain the data from the Door\n",
    " * The data of the last executed macro is available: attribute *RecordData* of the Door\n",
    " \n",
    "\n"
   ]
  },
  {
   "cell_type": "markdown",
   "metadata": {
    "collapsed": true,
    "slideshow": {
     "slide_type": "subslide"
    }
   },
   "source": [
    "### Macros: Execute submacro and get data\n",
    "\n",
    "### Where in the code?\n",
    "\n",
    "* From a macro, the following methods can be used to execute another macro, and get its data:\n",
    "\n",
    " * In class **Macro** from macro.py: methods **execMacro**, **getData** and **getResult**\n",
    " [`sardana.macroserver.macro.py`](https://github.com/sardana-org/sardana/blob/develop/src/sardana/macroserver/macro.py)"
   ]
  },
  {
   "cell_type": "markdown",
   "metadata": {
    "collapsed": true,
    "slideshow": {
     "slide_type": "subslide"
    }
   },
   "source": [
    "### Macros: Custom Recorders\n",
    "\n",
    "### Simple Example\n",
    "\n",
    "\n",
    "\n",
    "* The macro **get_data**, shows a basic example of:\n",
    " * Executing a macro from within another macro\n",
    " * Get its data\n",
    " * Set the result: In this case we calculate the middle position between the motor end position and the motor start position.\n",
    "\n",
    "\n",
    "[`sardana/macroserver/recorders/examples/submacros.py`](https://github.com/sardana-org/sardana/blob/develop/src/sardana/macroserver/macros/examples/submacros.py) (Macro **get_data**)\n",
    "\n",
    "\n"
   ]
  },
  {
   "cell_type": "markdown",
   "metadata": {
    "collapsed": true,
    "slideshow": {
     "slide_type": "subslide"
    }
   },
   "source": [
    "### Macros: Execute submacro and get data\n",
    "\n",
    "\n",
    "### Real Application\n",
    "\n",
    "* BL01 @ ALBA\n",
    " * Beamline mirror alignment in order to get the maximum intensity in the microscope\n",
    " * Rocking curve fitting and go to peak\n",
    "\n",
    "\n",
    "* Macros involved:\n",
    " * **Perform a scan** by moving the a motor of the matching unit\n",
    " * **get_peak Macro:** Perform a Gaussian fit with the data of the scan: \n",
    " * **go_peak Macro:** Go to the peak of the Gaussian curve by getting the output of get_peak macro"
   ]
  },
  {
   "cell_type": "markdown",
   "metadata": {
    "slideshow": {
     "slide_type": "slide"
    }
   },
   "source": [
    "## MACROS\n",
    "\n",
    "# Custom Recorders"
   ]
  },
  {
   "cell_type": "markdown",
   "metadata": {
    "collapsed": true,
    "slideshow": {
     "slide_type": "subslide"
    }
   },
   "source": [
    "### Macros: Custom Recorders\n",
    "\n",
    "### Feature Description\n",
    "\n",
    "* Create Custom Recorders\n",
    "* Indicate the custom recorder to be used with one of the following options:\n",
    "  1. By setting the Spock variable [**`ScanRecorder`**](http://www.sardana-controls.org/users/scan.html#configuration). Indicate the recorder path in the MacroServer property **RecorderPath**\n",
    "  2. By defining the dictionary [**`SCAN_RECORDER_MAP`**](http://www.sardana-controls.org/devel/howto_recorders.html#configuration) in sardanacustomsettings"
   ]
  },
  {
   "cell_type": "markdown",
   "metadata": {
    "collapsed": true,
    "slideshow": {
     "slide_type": "subslide"
    }
   },
   "source": [
    "### Macros: Custom Recorders\n",
    "\n",
    "### Where in the code?\n",
    "\n",
    "\n",
    " * The Sardana code for the data recorders can be found in:\n",
    "  * [`sardana.macroserver.scan.recorder`](https://github.com/sardana-org/sardana/tree/develop/src/sardana/macroserver/scan/recorder)\n",
    "  * [`sardana.macroserver.recorders`](https://github.com/sardana-org/sardana/tree/develop/src/sardana/macroserver/recorders)\n",
    " \n",
    " * One of the more interesting recorders is the HDF5 recorder: \n",
    " [`sardana.macroserver.recorders.h5storage.py`](https://github.com/sardana-org/sardana/tree/develop/src/sardana/macroserver/recorders/h5storage.py)\n",
    " \n",
    "\n",
    "\n",
    " "
   ]
  },
  {
   "cell_type": "markdown",
   "metadata": {
    "collapsed": true,
    "slideshow": {
     "slide_type": "subslide"
    }
   },
   "source": [
    "### Macros: Custom Recorders\n",
    "\n",
    "### Simple Example\n",
    "\n",
    "\n",
    "\n",
    "* The following code, shows a basic example of a Custom Scan Recorder:\n",
    "\n",
    "[`sardana/macroserver/recorders/examples/dummy.py`](https://github.com/sardana-org/sardana/tree/develop/src/sardana/macroserver/recorders/examples/dummy.py)\n",
    "\n",
    "This dummy recorder, prints the output data in the MacroServer, and it prints different variables related to the launched Scan.\n",
    " \n"
   ]
  },
  {
   "cell_type": "markdown",
   "metadata": {
    "collapsed": true,
    "slideshow": {
     "slide_type": "subslide"
    }
   },
   "source": [
    "### Macros: Custom Recorders\n",
    "\n",
    "### Real Application\n",
    "\n",
    "* BL04 @ ALBA\n",
    "\n",
    "* **madrecorder** is a Custom Recorder used for recording data from MAD detector in BL04 at ALBA.\n",
    "\n"
   ]
  }
 ],
 "metadata": {
  "celltoolbar": "Slideshow",
  "kernelspec": {
   "display_name": "Python 2",
   "language": "python",
   "name": "python2"
  },
  "language_info": {
   "codemirror_mode": {
    "name": "ipython",
    "version": 2
   },
   "file_extension": ".py",
   "mimetype": "text/x-python",
   "name": "python",
   "nbconvert_exporter": "python",
   "pygments_lexer": "ipython2",
   "version": "2.7.13"
  }
 },
 "nbformat": 4,
 "nbformat_minor": 2
}
