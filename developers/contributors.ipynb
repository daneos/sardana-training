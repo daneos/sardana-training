{
 "cells": [
  {
   "cell_type": "markdown",
   "metadata": {
    "collapsed": true,
    "slideshow": {
     "slide_type": "slide"
    }
   },
   "source": [
    "# Developers/Contributors tools & practices\n",
    "<br>\n",
    "<br>\n",
    "<img alt=\"Creative Commons License\" style=\"border-width:0\" src=\"https://i.creativecommons.org/l/by/4.0/88x31.png\" />\n",
    "Sardana-Training by ALBA Synchrotron is licensed under the Creative Commons Attribution 4.0 International License.  \n",
    "To view a copy of this license, visit http://creativecommons.org/licenses/by/4.0/."
   ]
  },
  {
   "cell_type": "markdown",
   "metadata": {
    "slideshow": {
     "slide_type": "slide"
    }
   },
   "source": [
    "## Documentation, ReadTheDocs\n",
    "\n",
    "The Sardana **online** documentation is hosted in Read the Doc (RtD)\n",
    "and is available from the official [Sardana's website](http://sardana-controls.org/).\n",
    "\n",
    "RtD offers several version of the documentation \n",
    "(latest, stable, and some old versions) and the possibility of download \n",
    "the PDF and Epub version of the documentation.\n",
    "\n",
    "The documentation can be locally built from a check out with the \n",
    "`python setup.py build_sphinx` command.\n",
    "\n"
   ]
  },
  {
   "cell_type": "markdown",
   "metadata": {
    "slideshow": {
     "slide_type": "slide"
    }
   },
   "source": [
    "## Github, mailing list\n",
    "\n",
    "### Github\n",
    "\n",
    "#### [Code]( https://github.com/sardana-org/sardana)\n",
    "\n",
    "The main branches are Master and Develop.\n",
    "\n",
    "#### Issues\n",
    "\n",
    "The github issues tracker is the entry for all kaind of issues (bug, enhancement, question, or help wanted). \n",
    "It is another documentation point:\n",
    "* If you find a sardana bug, you can looking for it (sometimes there is workaround to avoid it).\n",
    "* FAQ\n",
    "\n",
    "    \n",
    "\n",
    "\n",
    "\n",
    "\n",
    "\n",
    "\n",
    "\n",
    "\n"
   ]
  },
  {
   "cell_type": "markdown",
   "metadata": {
    "slideshow": {
     "slide_type": "subslide"
    }
   },
   "source": [
    "#### Pull requests\n",
    "\n",
    "\n",
    "![alt text](contribution_workflow.png \"GitHub contribution workflow\")\n"
   ]
  },
  {
   "cell_type": "markdown",
   "metadata": {
    "slideshow": {
     "slide_type": "subslide"
    }
   },
   "source": [
    "##### CI\n",
    "\n",
    "##### travis (debian 9) \n",
    "* Run testsuite\n",
    "* Run PEP8 checks \n",
    "\n",
    "##### appveyor (Windows 7)\n",
    "* Generate the release artifacts (tar file, msi, and wheels)\n"
   ]
  },
  {
   "cell_type": "markdown",
   "metadata": {
    "slideshow": {
     "slide_type": "subslide"
    }
   },
   "source": [
    "### Mailing list\n",
    "\n",
    "Sardana keep alive two mailing lists. One dedicated for users (newcommers)\n",
    "`sardana-users@lists.sourceforge.net` and other for developers\n",
    "`sardana-devel@lists.sourceforge.net`.\n",
    "\n",
    "Mailing list is now focused on anouncements."
   ]
  },
  {
   "cell_type": "markdown",
   "metadata": {
    "slideshow": {
     "slide_type": "slide"
    }
   },
   "source": [
    "## Sardana Enhancement Proposals (SEP)\n",
    "\n",
    "[Sardana Enhancement Proposals](http://www.sardana-controls.org/sep) are an important documentation part.\n",
    "\n",
    "Nowadays, the Sardana project is regulated by [SEP15](http://www.sardana-controls.org/sep/?SEP15.md). \n",
    "It is the evolution of [SEP1](http://www.sardana-controls.org/sep/?SEP1.md) and specifies:\n",
    "\n",
    "1. Create a sardana repo within a Sardana GH organization\n",
    "2. Define the new contribution policy\n",
    "3. Define the policy for bug reports / feature requests\n",
    "4. Migrate SF tickets to GH Issues\n",
    "5. Move the SEP pages to a service-independent URL\n",
    "6. Define what to do with the mailing lists\n",
    "  \n"
   ]
  },
  {
   "cell_type": "markdown",
   "metadata": {
    "slideshow": {
     "slide_type": "slide"
    }
   },
   "source": [
    "## Automated and manual tests\n",
    "\n",
    "### TestSuite \n",
    "\n",
    "This point is explained in the [sardana documentation](http://www.sardana-controls.org/sep).\n",
    "\n",
    "\n",
    "### Release test\n",
    "\n",
    "The aim of the release test is verify the integrity of Sardana and report the discovered bugs. \n",
    "Every Sardana release is thoroughly tested on Linux (debian stable, and opensuse 11), and Windows 7. \n",
    "\n",
    "\n",
    "[Release test guide](https://sourceforge.net/p/sardana/wiki/release-tests/)"
   ]
  },
  {
   "cell_type": "markdown",
   "metadata": {
    "slideshow": {
     "slide_type": "slide"
    }
   },
   "source": [
    "## sardana-test docker image\n",
    "\n",
    "There is a [Sardana docker image](http://www.sardana-controls.org/sep) with the preinstalled \n",
    "Sardana dependencies stack hosted in dockerhub.\n",
    "\n",
    "sardana-test docker image is based on a debian 8 image.\n",
    "\n",
    "sardana can be installed using:\n",
    "    \n",
    "* From the check out with `pip install .`\n",
    "* From pip with `pip install sardana`\n",
    "* From debian package with `apt-get install python-sardana`\n",
    "\n",
    "\n",
    "You can get sardana image by running `docker pull sardana-test` command.\n",
    "\n"
   ]
  }
 ],
 "metadata": {
  "celltoolbar": "Slideshow",
  "kernelspec": {
   "display_name": "Python 2",
   "language": "python",
   "name": "python2"
  },
  "language_info": {
   "codemirror_mode": {
    "name": "ipython",
    "version": 2
   },
   "file_extension": ".py",
   "mimetype": "text/x-python",
   "name": "python",
   "nbconvert_exporter": "python",
   "pygments_lexer": "ipython2",
   "version": "2.7.13"
  }
 },
 "nbformat": 4,
 "nbformat_minor": 2
}
