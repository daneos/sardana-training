{
 "cells": [
  {
   "cell_type": "markdown",
   "metadata": {
    "slideshow": {
     "slide_type": "slide"
    }
   },
   "source": [
    "# Sardana Overall Architecture and General Concepts\n",
    "<br>\n",
    "<br>\n",
    "<img alt=\"Creative Commons License\" style=\"border-width:0\" src=\"https://i.creativecommons.org/l/by/4.0/88x31.png\" />\n",
    "Sardana-Training by ALBA Synchrotron is licensed under the Creative Commons Attribution 4.0 International License.  \n",
    "To view a copy of this license, visit http://creativecommons.org/licenses/by/4.0/."
   ]
  },
  {
   "cell_type": "markdown",
   "metadata": {
    "slideshow": {
     "slide_type": "slide"
    }
   },
   "source": [
    "## [Symbolic sketch](http://www.sardana-controls.org/users/overview.html#symbolic-sketch)"
   ]
  },
  {
   "cell_type": "markdown",
   "metadata": {
    "slideshow": {
     "slide_type": "slide"
    }
   },
   "source": [
    "## Contents\n",
    "\n",
    "* Sardana plugins\n",
    "* Pool core\n",
    "* MacroServer core\n",
    "* Concurrency\n",
    "* Tango layer\n",
    "* Taurus: Qt and Core"
   ]
  },
  {
   "cell_type": "markdown",
   "metadata": {
    "slideshow": {
     "slide_type": "slide"
    }
   },
   "source": [
    "## Sardana plugins\n",
    "\n",
    "* Entry points\n",
    " * controllers\n",
    " * macros\n",
    " * recorders\n",
    " * macro parameters editors (beta)\n",
    " * Sardana-Taurus extensions are plugins to Taurus\n",
    "* Discovery methods\n",
    "* Plugin system architecture\n",
    "* To be unified and formalized by [TEP13](https://github.com/taurus-org/taurus/blob/develop/doc/source/tep/TEP13.md)"
   ]
  },
  {
   "cell_type": "markdown",
   "metadata": {
    "slideshow": {
     "slide_type": "subslide"
    }
   },
   "source": [
    "### Discovery methods\n",
    "\n",
    "* Path based. Scannning the directory, not subdirectories.\n",
    "* Uses `inspect` module and `issubclass` function\n",
    "\n",
    "* Configurable with Tango properties:\n",
    " * `PoolPath`, `MacroPath`, `RecorderPath`\n",
    " * Order precedence\n",
    " * Paths starting with `#` are ignored\n",
    "\n",
    "* Default paths: \n",
    " * Controllers: `sardana/pool/poolcontrollers`\n",
    " * Macros: `sardana/macroserver/macros`\n",
    " * Recorders: `sardana/macroserver/recorders`"
   ]
  },
  {
   "cell_type": "markdown",
   "metadata": {
    "slideshow": {
     "slide_type": "subslide"
    }
   },
   "source": [
    "### Plugin system architecture\n",
    "\n",
    "TODO: class diagram\n",
    "\n",
    "Manager e.g. ControllerManager, MacroManager, ...\n",
    "* (Re)loads modules and classes using inspect\n",
    "* Maintains register of present modules and classes\n",
    "* Creates new plugins from template"
   ]
  },
  {
   "cell_type": "markdown",
   "metadata": {
    "slideshow": {
     "slide_type": "subslide"
    }
   },
   "source": [
    "### Plugin system architecture\n",
    "\n",
    "Meta classes e.g. ControllerClass, MacroLibrary:\n",
    "* represents plugin module or class\n",
    "* has reference to the plugin (class or module)\n",
    "* contains meta information\n",
    " * generic e.g. path, file name, etc.\n",
    " * specific e.g. macro parameters, pseudo motor roles, etc."
   ]
  },
  {
   "cell_type": "markdown",
   "metadata": {
    "slideshow": {
     "slide_type": "subslide"
    }
   },
   "source": [
    "### Plugin system architecture\n",
    "\n",
    "Plugin classes and modules:\n",
    "* classes - subclasses of `Controller`, `Macro` or `Recorder`\n",
    "* modules - python modules that contains plugin classes"
   ]
  },
  {
   "cell_type": "markdown",
   "metadata": {
    "slideshow": {
     "slide_type": "subslide"
    }
   },
   "source": [
    "### Plugin system architecture\n",
    "\n",
    "Plugin instances:\n",
    "* Instances of plugin classes e.g. IcePAP controller, ascan macro or SPEC recorder"
   ]
  },
  {
   "cell_type": "markdown",
   "metadata": {
    "slideshow": {
     "slide_type": "slide"
    }
   },
   "source": [
    "## Pool core\n",
    "\n",
    "* TODO: class diagram\n",
    "* Value, Attribute, Buffer and Event\n",
    "* Elements e.g. Motor, CT\n",
    "* Controllers\n",
    "* Containers e.g. MotorGroup, PseudoMotor\n",
    "* Pseudo elements e.g. PseudoMotor, PseudoCounter\n",
    "* Instruments"
   ]
  },
  {
   "cell_type": "markdown",
   "metadata": {
    "slideshow": {
     "slide_type": "subslide"
    }
   },
   "source": [
    "### Element\n",
    "\n",
    "* Has name, full name and unique id within the Pool\n",
    "* Has reference to its controller\n",
    "* Identifiable by axis number (`int`) in the controller\n",
    "* Has state and status\n",
    "* Generates or forwards events\n",
    "* May have attributes and parameters\n",
    "* Has a dedicated action object e.g. `PoolMotion` for a `PoolMotor` element\n",
    "* May be stopped or aborted\n",
    "* May be associated to an instrument\n",
    "* Is serializable"
   ]
  },
  {
   "cell_type": "markdown",
   "metadata": {
    "slideshow": {
     "slide_type": "subslide"
    }
   },
   "source": [
    "### Value, Attribute, Buffer and Event\n",
    "\n",
    "Value e.g. Motor's position readout:\n",
    "* Value\n",
    "* Timestamp\n",
    "* Error"
   ]
  },
  {
   "cell_type": "markdown",
   "metadata": {
    "slideshow": {
     "slide_type": "subslide"
    }
   },
   "source": [
    "### Value, Attribute, Buffer and Event\n",
    "\n",
    "Event:\n",
    "* Publisher-Subscriber design pattern\n",
    "* EventGenerator has references (`weakref`) to its listeners (callbacks)\n",
    "* Emitting an event means the callback execution in the synchronous way\n",
    "* Callback arguments: source, type and value\n",
    "* EventType has name and priority\n",
    "* Example: Offset -> Position"
   ]
  },
  {
   "cell_type": "markdown",
   "metadata": {
    "slideshow": {
     "slide_type": "subslide"
    }
   },
   "source": [
    "### Value, Attribute, Buffer and Event\n",
    "\n",
    "Attribute e.g. PseudoCounter's value:\n",
    "* Has read & write value\n",
    "* Has configuration e.g. limits, alarms... (not used at the moment)\n",
    "* Has reference to its element"
   ]
  },
  {
   "cell_type": "markdown",
   "metadata": {
    "slideshow": {
     "slide_type": "subslide"
    }
   },
   "source": [
    "### Value, Attribute, Buffer and Event\n",
    "\n",
    "Buffer e.g. CounterTimer's value buffer:\n",
    "* Used by experimental channels\n",
    "* Works with ordered and indexed values\n",
    "* May buffer values if pseudo counters require that\n",
    "* Works by appending or extending the buffer\n",
    "* Has reference to its element"
   ]
  },
  {
   "cell_type": "markdown",
   "metadata": {
    "slideshow": {
     "slide_type": "subslide"
    }
   },
   "source": [
    "### Controller\n",
    "\n",
    "* Container of elements\n",
    "* Has reference to the controller plugin instance\n",
    "* May have attributes and parameters\n",
    "* Has interface to access element's attributes and parameters\n",
    "* Implements raw algorithms to:\n",
    " * State and Value access\n",
    " * Move, Stop and Abort commands\n",
    "* PseudoMotor and PseudoCounter controllers are specializations that provides interface to calculations\n",
    "* Has its own log level"
   ]
  },
  {
   "cell_type": "markdown",
   "metadata": {
    "slideshow": {
     "slide_type": "subslide"
    }
   },
   "source": [
    "### Element Container\n",
    "\n",
    "* Type: MotorGroup, MeasurementGroup, PseudoMotor, PseudoCounter\n",
    "* Has references to its physical elements\n",
    "* Its state is composed from states of physical elements\n",
    "* Stop and abort acts on all physical elemenets\n",
    "* Has a dedicated action object e.g. `PoolMotion` for a `PoolPseudoMotor` element"
   ]
  },
  {
   "cell_type": "markdown",
   "metadata": {
    "slideshow": {
     "slide_type": "subslide"
    }
   },
   "source": [
    "### Pseudo Element\n",
    "\n",
    "* Types: PseudoMotor, PsedoCounter\n",
    "* Inherits behavior of Element Container\n",
    "* Has references to its siblings\n",
    "* Its default attribute i.e. Position or Value listens to the physical attributes and forwards events\n",
    "* TODO: show on the class diagram how events are propagated"
   ]
  },
  {
   "cell_type": "markdown",
   "metadata": {
    "slideshow": {
     "slide_type": "subslide"
    }
   },
   "source": [
    "### Instrument\n",
    "\n",
    "* Parent <-> Children relations may be defined\n",
    "* \"Lighweight\" element e.g. no state, no attributes, etc.\n",
    "* Any element may be assigned to an instrument\n",
    "* Managed by Pool\n",
    "* Nexus recorder uses this information to provide links to the measurement data in an organized way\n",
    "* TaurusGUI uses this information to populate one panel per instrument and link it with the synoptic"
   ]
  },
  {
   "cell_type": "markdown",
   "metadata": {
    "slideshow": {
     "slide_type": "slide"
    }
   },
   "source": [
    "## MacroServer\n",
    "\n",
    "* Runs *sequences* i.e. macros, scripts on a Door, also concurrently\n",
    "* Contains catalogue of available macros\n",
    "* MacroServer can connect to multiple Pools but can also run independently\n",
    "* Core concepts:\n",
    " * Macros\n",
    " * Environment\n",
    " * Hooks\n",
    " * Generic Scan Framework (GSF)"
   ]
  },
  {
   "cell_type": "markdown",
   "metadata": {
    "slideshow": {
     "slide_type": "subslide"
    }
   },
   "source": [
    "### Macros\n",
    "\n",
    "* Python scripts i.e. class or function\n",
    "* Are created and destroyed on execution\n",
    "* The last run macro may be kept in memory to allow access to its data\n",
    "* Usually a single thread of execution\n",
    "* Are executed asynchronously by the MacroExecutor"
   ]
  },
  {
   "cell_type": "markdown",
   "metadata": {
    "slideshow": {
     "slide_type": "subslide"
    }
   },
   "source": [
    "### Environment\n",
    "* Environment to access shared data (similar to bash environment)\n",
    "* Multiple levels: global, door, macro\n",
    "* Macros may require a given environment variable to be defined\n",
    "* Persistency achieved with `shelve` file\n",
    "* Configurable with `EnvironmentDb` - be careful with the default location - `/tmp`\n",
    "* Taurus scheme is pending to be implemented - see [SEP14](https://github.com/sardana-org/sardana/blob/develop/doc/source/sep/SEP14.md)\n",
    "* Environment inheritance between wrapper and nested macros is missing"
   ]
  },
  {
   "cell_type": "code",
   "execution_count": 9,
   "metadata": {
    "collapsed": false,
    "slideshow": {
     "slide_type": "subslide"
    }
   },
   "outputs": [
    {
     "name": "stdout",
     "output_type": "stream",
     "text": [
      "/tmp\n"
     ]
    }
   ],
   "source": [
    "import shelve\n",
    "env = shelve.open(\"/home/sicilia/workspace/macroserver.properties\")\n",
    "print env[\"ScanDir\"]\n",
    "env.close()"
   ]
  },
  {
   "cell_type": "markdown",
   "metadata": {
    "slideshow": {
     "slide_type": "subslide"
    }
   },
   "source": [
    "### Hooks\n",
    "\n",
    "* Code that is executed at a given moment within a macro\n",
    "* May be another macro or a python callable\n",
    "* A macro may define allowed hook places - where the hooks may be attached\n",
    "* Example: scans defines hook places like: pre-scan, pre-acq, post-move, etc.\n",
    "* Hook may be attached programatically or using `sequencer`\n",
    "* General Hooks implementaion is pending - see [#200](https://github.com/sardana-org/sardana/issues/200)"
   ]
  },
  {
   "cell_type": "markdown",
   "metadata": {
    "slideshow": {
     "slide_type": "subslide"
    }
   },
   "source": [
    "### GSF\n",
    "\n",
    "* Control Moveables (if involved) and MeasurementGroup to perfom a scan\n",
    "* Step, Hybrid and Continuous (`ascanc` & `ascanct`) modes\n",
    "* Customizable with generators e.g. step, period, waypoint generators\n",
    "* Customizable with hooks\n",
    "* Parametrizable with environment variables\n",
    "* Executes pre-scan snapshot\n",
    "* Handles data using recorders\n",
    "* Estimates duration\n",
    "* Provides statistics e.g. dead time, motion time, etc.\n",
    "* Reports progress\n",
    "* Provides a set of multidimensional scan macros"
   ]
  },
  {
   "cell_type": "markdown",
   "metadata": {
    "slideshow": {
     "slide_type": "slide"
    }
   },
   "source": [
    "## Elements attribute\n",
    "\n",
    "* Both Pool and MacroServer defines it\n",
    "* Each elemenent is serialized and represented in Elements attribute\n",
    "* Events notifies about `new`, `del` and `change` elements\n",
    "* MacroServer listens to the Elements events comming from its Pools\n",
    "* Is JSON encoded\n",
    "* Pool and MacroServer restart orer is important due to [#113](https://github.com/sardana-org/sardana/issues/113)"
   ]
  },
  {
   "cell_type": "markdown",
   "metadata": {
    "slideshow": {
     "slide_type": "slide"
    }
   },
   "source": [
    "## Worker threads and jobs\n",
    "\n",
    "* Concurrency achieved using threads\n",
    "* `taurus.core.util.threadpool` is used\n",
    "* Pool thread pool is used to:\n",
    " * run actions: motion, acquisition, synchronization\n",
    " * access controllers: read State and Value\n",
    "* MacroServer thread pool is used to:\n",
    " * run macros\n",
    " * stop/abort reserved objects\n",
    " * run concurent tasks in GSF e.g. go through waypoints\n",
    " * handle Data (in the future will be renamed to ValueBuffer) events in GSF (continuous scan)\n",
    "* Tango layer uses pool thread to push events"
   ]
  },
  {
   "cell_type": "markdown",
   "metadata": {
    "slideshow": {
     "slide_type": "slide"
    }
   },
   "source": [
    "## Tango layer\n",
    "\n",
    "* Currently the only way to run Sardana sercerss is by using Tango\n",
    "* Defines device classes and device servers\n",
    "* Use events to:\n",
    " * notify clients about attribute updates (with change criteria)\n",
    " * transfer data in continuous scan \n",
    "* Extensively uses dynamic attributes\n",
    "* Attribute ranges are used as software limits (it has limitations: [#9](https://github.com/sardana-org/sardana/issues/9), [#159](https://github.com/sardana-org/sardana/issues/159), [#36](https://github.com/sardana-org/sardana/issues/36) and [#259](https://github.com/sardana-org/sardana/issues/259))\n",
    "* Persistance is achieved using Tango DB:\n",
    " * device servers definition (device names and aliases)\n",
    " * device and attribute properties\n",
    " * memorized attributes\n",
    "* Uses Tango monitor as the serialization mechanism\n",
    "* Neither Tango polling nor Tango logging is used "
   ]
  },
  {
   "cell_type": "markdown",
   "metadata": {
    "slideshow": {
     "slide_type": "slide"
    }
   },
   "source": [
    "## Taurus\n",
    "\n",
    "* Qt: GUI, widgets\n",
    "* Core\n",
    " * Tango scheme extensions\n",
    " * MSenv scheme ([SEP14](https://github.com/sardana-org/sardana/blob/develop/doc/source/sep/SEP14.md))\n",
    " * utils"
   ]
  },
  {
   "cell_type": "markdown",
   "metadata": {
    "slideshow": {
     "slide_type": "subslide"
    }
   },
   "source": [
    "### Taurus Qt\n",
    "\n",
    "* TaurusGUI\n",
    " * connection to MacroServer and Door\n",
    " * Instrument panels and its connection with synoptic (optional)\n",
    " * General stop button\n",
    " * Example `taurusgui macrogui`\n",
    "* Pool elements widgets:\n",
    " * Motor\n",
    " * ExpChannel\n",
    " * IORegister"
   ]
  },
  {
   "cell_type": "markdown",
   "metadata": {
    "slideshow": {
     "slide_type": "subslide"
    }
   },
   "source": [
    "### Taurus Qt\n",
    "\n",
    "* Macro execution widgets:\n",
    " * macroexecutor\n",
    " * sequencer\n",
    " * macrobutton\n",
    " * door streams e.g. output, debug...\n",
    "* Experiment configuration (spock command: `expconf`)\n",
    " * online plot\n",
    "* Offline plot (spock command: `showscan`)\n",
    "* Sardana editor"
   ]
  },
  {
   "cell_type": "markdown",
   "metadata": {
    "slideshow": {
     "slide_type": "slide"
    }
   },
   "source": [
    "### Taurus Core - Tango scheme extension\n",
    "\n",
    "* Each Tango class has its extension equivalent e.g. Motor, MeasurementGroup, etc.\n",
    "* MeasurementGroup configuration attribute has a helper class (it is not extension)\n",
    "* ExperimentConfiguration helper class (MeasurementGroup configurations + environment variables e.g. PreScanSnapshot, ScanDir, ...)\n",
    "* Pool elements allows synchronous actions e.g. motion, acquisition based on Start command and State events\n",
    "* MacroServer allows sychronous macro execution e.g. used by spock\n",
    "* Provides event handling decoupled from Tango see: `umv` macro as an example\n",
    "* MacroServer provides macro node classes used as model in macroexecution widgets"
   ]
  },
  {
   "cell_type": "code",
   "execution_count": 17,
   "metadata": {
    "collapsed": false,
    "slideshow": {
     "slide_type": "subslide"
    }
   },
   "outputs": [
    {
     "ename": "AttributeError",
     "evalue": "getElementInfo",
     "output_type": "error",
     "traceback": [
      "\u001b[0;31m---------------------------------------------------------------------------\u001b[0m",
      "\u001b[0;31mAttributeError\u001b[0m                            Traceback (most recent call last)",
      "\u001b[0;32m<ipython-input-17-ee4ead6673fb>\u001b[0m in \u001b[0;36m<module>\u001b[0;34m()\u001b[0m\n\u001b[1;32m      7\u001b[0m \u001b[0;31m#unregisterExtensions()  # this does not clean the Taurus factory\u001b[0m\u001b[0;34m\u001b[0m\u001b[0;34m\u001b[0m\u001b[0m\n\u001b[1;32m      8\u001b[0m \u001b[0mmot\u001b[0m \u001b[0;34m=\u001b[0m \u001b[0mtaurus\u001b[0m\u001b[0;34m.\u001b[0m\u001b[0mDevice\u001b[0m\u001b[0;34m(\u001b[0m\u001b[0;34m\"mot01\"\u001b[0m\u001b[0;34m)\u001b[0m\u001b[0;34m\u001b[0m\u001b[0m\n\u001b[0;32m----> 9\u001b[0;31m \u001b[0;32mprint\u001b[0m \u001b[0mmot\u001b[0m\u001b[0;34m\u001b[0m\u001b[0m\n\u001b[0m",
      "\u001b[0;32m/home/sicilia/workspace/sardana/src/sardana/taurus/core/tango/sardana/pool.pyc\u001b[0m in \u001b[0;36m__str__\u001b[0;34m(self)\u001b[0m\n\u001b[1;32m    110\u001b[0m \u001b[0;34m\u001b[0m\u001b[0m\n\u001b[1;32m    111\u001b[0m     \u001b[0;32mdef\u001b[0m \u001b[0m__str__\u001b[0m\u001b[0;34m(\u001b[0m\u001b[0mself\u001b[0m\u001b[0;34m)\u001b[0m\u001b[0;34m:\u001b[0m\u001b[0;34m\u001b[0m\u001b[0m\n\u001b[0;32m--> 112\u001b[0;31m         \u001b[0;32mreturn\u001b[0m \u001b[0mself\u001b[0m\u001b[0;34m.\u001b[0m\u001b[0mgetName\u001b[0m\u001b[0;34m(\u001b[0m\u001b[0;34m)\u001b[0m\u001b[0;34m\u001b[0m\u001b[0m\n\u001b[0m\u001b[1;32m    113\u001b[0m \u001b[0;34m\u001b[0m\u001b[0m\n\u001b[1;32m    114\u001b[0m     \u001b[0;32mdef\u001b[0m \u001b[0mserialize\u001b[0m\u001b[0;34m(\u001b[0m\u001b[0mself\u001b[0m\u001b[0;34m)\u001b[0m\u001b[0;34m:\u001b[0m\u001b[0;34m\u001b[0m\u001b[0m\n",
      "\u001b[0;32m/home/sicilia/workspace/sardana/src/sardana/taurus/core/tango/sardana/pool.pyc\u001b[0m in \u001b[0;36mgetName\u001b[0;34m(self)\u001b[0m\n\u001b[1;32m    130\u001b[0m \u001b[0;34m\u001b[0m\u001b[0m\n\u001b[1;32m    131\u001b[0m     \u001b[0;32mdef\u001b[0m \u001b[0mgetName\u001b[0m\u001b[0;34m(\u001b[0m\u001b[0mself\u001b[0m\u001b[0;34m)\u001b[0m\u001b[0;34m:\u001b[0m\u001b[0;34m\u001b[0m\u001b[0m\n\u001b[0;32m--> 132\u001b[0;31m         \u001b[0;32mreturn\u001b[0m \u001b[0mself\u001b[0m\u001b[0;34m.\u001b[0m\u001b[0mgetPoolData\u001b[0m\u001b[0;34m(\u001b[0m\u001b[0;34m)\u001b[0m\u001b[0;34m[\u001b[0m\u001b[0;34m'name'\u001b[0m\u001b[0;34m]\u001b[0m\u001b[0;34m\u001b[0m\u001b[0m\n\u001b[0m\u001b[1;32m    133\u001b[0m \u001b[0;34m\u001b[0m\u001b[0m\n\u001b[1;32m    134\u001b[0m     \u001b[0;32mdef\u001b[0m \u001b[0mgetPoolObj\u001b[0m\u001b[0;34m(\u001b[0m\u001b[0mself\u001b[0m\u001b[0;34m)\u001b[0m\u001b[0;34m:\u001b[0m\u001b[0;34m\u001b[0m\u001b[0m\n",
      "\u001b[0;32m/home/sicilia/workspace/sardana/src/sardana/taurus/core/tango/sardana/pool.pyc\u001b[0m in \u001b[0;36mgetPoolData\u001b[0;34m(self)\u001b[0m\n\u001b[1;32m    139\u001b[0m             \u001b[0;32mreturn\u001b[0m \u001b[0mself\u001b[0m\u001b[0;34m.\u001b[0m\u001b[0m_pool_data\u001b[0m\u001b[0;34m\u001b[0m\u001b[0m\n\u001b[1;32m    140\u001b[0m         \u001b[0;32mexcept\u001b[0m \u001b[0mAttributeError\u001b[0m\u001b[0;34m:\u001b[0m\u001b[0;34m\u001b[0m\u001b[0m\n\u001b[0;32m--> 141\u001b[0;31m             \u001b[0mself\u001b[0m\u001b[0;34m.\u001b[0m\u001b[0m_pool_data\u001b[0m \u001b[0;34m=\u001b[0m \u001b[0mself\u001b[0m\u001b[0;34m.\u001b[0m\u001b[0m_find_pool_data\u001b[0m\u001b[0;34m(\u001b[0m\u001b[0;34m)\u001b[0m\u001b[0;34m\u001b[0m\u001b[0m\n\u001b[0m\u001b[1;32m    142\u001b[0m             \u001b[0;32mreturn\u001b[0m \u001b[0mself\u001b[0m\u001b[0;34m.\u001b[0m\u001b[0m_pool_data\u001b[0m\u001b[0;34m\u001b[0m\u001b[0m\n\u001b[1;32m    143\u001b[0m \u001b[0;34m\u001b[0m\u001b[0m\n",
      "\u001b[0;32m/home/sicilia/workspace/sardana/src/sardana/taurus/core/tango/sardana/pool.pyc\u001b[0m in \u001b[0;36m_find_pool_data\u001b[0;34m(self)\u001b[0m\n\u001b[1;32m    298\u001b[0m     \u001b[0;32mdef\u001b[0m \u001b[0m_find_pool_data\u001b[0m\u001b[0;34m(\u001b[0m\u001b[0mself\u001b[0m\u001b[0;34m)\u001b[0m\u001b[0;34m:\u001b[0m\u001b[0;34m\u001b[0m\u001b[0m\n\u001b[1;32m    299\u001b[0m         \u001b[0mpool\u001b[0m \u001b[0;34m=\u001b[0m \u001b[0mget_pool_for_device\u001b[0m\u001b[0;34m(\u001b[0m\u001b[0mself\u001b[0m\u001b[0;34m.\u001b[0m\u001b[0mgetParentObj\u001b[0m\u001b[0;34m(\u001b[0m\u001b[0;34m)\u001b[0m\u001b[0;34m,\u001b[0m \u001b[0mself\u001b[0m\u001b[0;34m.\u001b[0m\u001b[0mgetHWObj\u001b[0m\u001b[0;34m(\u001b[0m\u001b[0;34m)\u001b[0m\u001b[0;34m)\u001b[0m\u001b[0;34m\u001b[0m\u001b[0m\n\u001b[0;32m--> 300\u001b[0;31m         \u001b[0;32mreturn\u001b[0m \u001b[0mpool\u001b[0m\u001b[0;34m.\u001b[0m\u001b[0mgetElementInfo\u001b[0m\u001b[0;34m(\u001b[0m\u001b[0mself\u001b[0m\u001b[0;34m.\u001b[0m\u001b[0mgetFullName\u001b[0m\u001b[0;34m(\u001b[0m\u001b[0;34m)\u001b[0m\u001b[0;34m)\u001b[0m\u001b[0;34m.\u001b[0m\u001b[0m_data\u001b[0m\u001b[0;34m\u001b[0m\u001b[0m\n\u001b[0m\u001b[1;32m    301\u001b[0m \u001b[0;34m\u001b[0m\u001b[0m\n\u001b[1;32m    302\u001b[0m     \u001b[0;32mdef\u001b[0m \u001b[0mcleanUp\u001b[0m\u001b[0;34m(\u001b[0m\u001b[0mself\u001b[0m\u001b[0;34m)\u001b[0m\u001b[0;34m:\u001b[0m\u001b[0;34m\u001b[0m\u001b[0m\n",
      "\u001b[0;32m/home/sicilia/workspace/taurus/lib/taurus/core/taurusdevice.pyc\u001b[0m in \u001b[0;36m__getattr__\u001b[0;34m(self, name)\u001b[0m\n\u001b[1;32m     75\u001b[0m     \u001b[0;32mdef\u001b[0m \u001b[0m__getattr__\u001b[0m\u001b[0;34m(\u001b[0m\u001b[0mself\u001b[0m\u001b[0;34m,\u001b[0m \u001b[0mname\u001b[0m\u001b[0;34m)\u001b[0m\u001b[0;34m:\u001b[0m\u001b[0;34m\u001b[0m\u001b[0m\n\u001b[1;32m     76\u001b[0m         \u001b[0;32mif\u001b[0m \u001b[0;34m'_deviceObj'\u001b[0m \u001b[0;32min\u001b[0m \u001b[0mself\u001b[0m\u001b[0;34m.\u001b[0m\u001b[0m__dict__\u001b[0m \u001b[0;32mand\u001b[0m \u001b[0mself\u001b[0m\u001b[0;34m.\u001b[0m\u001b[0m_deviceObj\u001b[0m \u001b[0;32mis\u001b[0m \u001b[0;32mnot\u001b[0m \u001b[0mNone\u001b[0m\u001b[0;34m:\u001b[0m\u001b[0;34m\u001b[0m\u001b[0m\n\u001b[0;32m---> 77\u001b[0;31m             \u001b[0;32mreturn\u001b[0m \u001b[0mgetattr\u001b[0m\u001b[0;34m(\u001b[0m\u001b[0mself\u001b[0m\u001b[0;34m.\u001b[0m\u001b[0m_deviceObj\u001b[0m\u001b[0;34m,\u001b[0m \u001b[0mname\u001b[0m\u001b[0;34m)\u001b[0m\u001b[0;34m\u001b[0m\u001b[0m\n\u001b[0m\u001b[1;32m     78\u001b[0m         \u001b[0mcls_name\u001b[0m \u001b[0;34m=\u001b[0m \u001b[0mself\u001b[0m\u001b[0;34m.\u001b[0m\u001b[0m__class__\u001b[0m\u001b[0;34m.\u001b[0m\u001b[0m__name__\u001b[0m\u001b[0;34m\u001b[0m\u001b[0m\n\u001b[1;32m     79\u001b[0m         \u001b[0;32mraise\u001b[0m \u001b[0mAttributeError\u001b[0m\u001b[0;34m(\u001b[0m\u001b[0;34m\"'%s' has no attribute '%s'\"\u001b[0m \u001b[0;34m%\u001b[0m \u001b[0;34m(\u001b[0m\u001b[0mcls_name\u001b[0m\u001b[0;34m,\u001b[0m \u001b[0mname\u001b[0m\u001b[0;34m)\u001b[0m\u001b[0;34m)\u001b[0m\u001b[0;34m\u001b[0m\u001b[0m\n",
      "\u001b[0;32m/usr/lib/python2.7/dist-packages/tango/device_proxy.pyc\u001b[0m in \u001b[0;36m__DeviceProxy__getattr\u001b[0;34m(self, name)\u001b[0m\n\u001b[1;32m    264\u001b[0m         \u001b[0;32mreturn\u001b[0m \u001b[0mself\u001b[0m\u001b[0;34m.\u001b[0m\u001b[0mread_pipe\u001b[0m\u001b[0;34m(\u001b[0m\u001b[0mname\u001b[0m\u001b[0;34m)\u001b[0m\u001b[0;34m\u001b[0m\u001b[0m\n\u001b[1;32m    265\u001b[0m \u001b[0;34m\u001b[0m\u001b[0m\n\u001b[0;32m--> 266\u001b[0;31m     \u001b[0;32mraise\u001b[0m \u001b[0mAttributeError\u001b[0m\u001b[0;34m(\u001b[0m\u001b[0mname\u001b[0m\u001b[0;34m)\u001b[0m\u001b[0;34m\u001b[0m\u001b[0m\n\u001b[0m\u001b[1;32m    267\u001b[0m \u001b[0;34m\u001b[0m\u001b[0m\n\u001b[1;32m    268\u001b[0m \u001b[0;32mdef\u001b[0m \u001b[0m__DeviceProxy__setattr\u001b[0m\u001b[0;34m(\u001b[0m\u001b[0mself\u001b[0m\u001b[0;34m,\u001b[0m \u001b[0mname\u001b[0m\u001b[0;34m,\u001b[0m \u001b[0mvalue\u001b[0m\u001b[0;34m)\u001b[0m\u001b[0;34m:\u001b[0m\u001b[0;34m\u001b[0m\u001b[0m\n",
      "\u001b[0;31mAttributeError\u001b[0m: getElementInfo"
     ]
    }
   ],
   "source": [
    "import taurus\n",
    "from sardana.taurus.core.tango.sardana import registerExtensions, unregisterExtensions\n",
    "\n",
    "registerExtensions()\n",
    "mot = taurus.Device(\"mot01\")\n",
    "#print mot.move(-100)\n",
    "#unregisterExtensions()  # this does not clean the Taurus factory\n",
    "mot = taurus.Device(\"mot01\")\n",
    "print mot"
   ]
  },
  {
   "cell_type": "markdown",
   "metadata": {
    "slideshow": {
     "slide_type": "slide"
    }
   },
   "source": [
    "### Taurus Qt Core - Tango scheme extension\n",
    "\n",
    "* Similar to taurus core extension\n",
    "* Translate Tango events to Qt signals\n",
    "* Foreseen to be used in Qt widgets"
   ]
  },
  {
   "cell_type": "code",
   "execution_count": 1,
   "metadata": {
    "collapsed": false,
    "slideshow": {
     "slide_type": "subslide"
    }
   },
   "outputs": [
    {
     "name": "stdout",
     "output_type": "stream",
     "text": [
      "TangoDevice(Door/zreszela/1)\n"
     ]
    }
   ],
   "source": [
    "import taurus\n",
    "from sardana.taurus.qt.qtcore.tango.sardana import registerExtensions\n",
    "\n",
    "#registerExtensions()\n",
    "door = taurus.Device(\"Door_zreszela_1\")\n",
    "print door"
   ]
  },
  {
   "cell_type": "code",
   "execution_count": null,
   "metadata": {
    "collapsed": true
   },
   "outputs": [],
   "source": []
  }
 ],
 "metadata": {
  "celltoolbar": "Slideshow",
  "kernelspec": {
   "display_name": "Python 2",
   "language": "python",
   "name": "python2"
  },
  "language_info": {
   "codemirror_mode": {
    "name": "ipython",
    "version": 2
   },
   "file_extension": ".py",
   "mimetype": "text/x-python",
   "name": "python",
   "nbconvert_exporter": "python",
   "pygments_lexer": "ipython2",
   "version": "2.7.13"
  }
 },
 "nbformat": 4,
 "nbformat_minor": 2
}
